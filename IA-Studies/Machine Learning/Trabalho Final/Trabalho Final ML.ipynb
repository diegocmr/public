{
 "cells": [
  {
   "cell_type": "markdown",
   "id": "05469130",
   "metadata": {},
   "source": [
    "### Apresentação\n",
    "Neste trabalho, trabalharemos dados do Kaggle para a Varíola dos Macacos, e verificaremos como os modelos XGBoost e Decision Tree performam em diversos hiperparâmetros.\n",
    "\n",
    "*link do Kaggle:* https://www.kaggle.com/datasets/muhammad4hmed/monkeypox-patients-dataset"
   ]
  },
  {
   "cell_type": "markdown",
   "id": "86ae65c8",
   "metadata": {},
   "source": [
    "### Etapas\n",
    "0. Importando Módulos e Dados\n",
    "1. Exploração e Transformação Inicial\n",
    "2. Usando XGBoost\n",
    "3. Usando Decision Tree\n",
    "4. Considerações finais"
   ]
  },
  {
   "cell_type": "markdown",
   "id": "d52076fa",
   "metadata": {},
   "source": [
    "### 0. Importando Módulos e Dados"
   ]
  },
  {
   "cell_type": "code",
   "execution_count": null,
   "id": "650ce24d",
   "metadata": {},
   "outputs": [],
   "source": [
    "import numpy as np\n",
    "import pandas as pd\n",
    "from sklearn.model_selection import RandomizedSearchCV\n",
    "from sklearn.metrics import mean_squared_error\n",
    "from sklearn.metrics import confusion_matrix\n",
    "from sklearn.metrics import ConfusionMatrixDisplay\n",
    "from sklearn.model_selection import train_test_split\n",
    "!pip install xgboost\n",
    "from xgboost import XGBClassifier\n",
    "from sklearn import tree"
   ]
  },
  {
   "cell_type": "code",
   "execution_count": null,
   "id": "aca7eff1",
   "metadata": {},
   "outputs": [],
   "source": [
    "df = pd.read_csv('DATA.csv')"
   ]
  },
  {
   "cell_type": "code",
   "execution_count": null,
   "id": "5c8bfbdc",
   "metadata": {},
   "outputs": [],
   "source": [
    "#padronizando nomes de colunas\n",
    "df.columns = [col.lower().replace(' ','_') for col in df.columns]\n",
    "df.columns"
   ]
  },
  {
   "cell_type": "markdown",
   "id": "a3d1b2fb",
   "metadata": {},
   "source": [
    "### 1. Exploração e Transformação Inicial"
   ]
  },
  {
   "cell_type": "code",
   "execution_count": null,
   "id": "6daef109",
   "metadata": {
    "scrolled": false
   },
   "outputs": [],
   "source": [
    "df.describe()"
   ]
  },
  {
   "cell_type": "code",
   "execution_count": null,
   "id": "e9cea009",
   "metadata": {},
   "outputs": [],
   "source": [
    "#vamos dropar a colunas Patient_ID por não ter informação relevante\n",
    "df = df.drop(columns=['patient_id'])"
   ]
  },
  {
   "cell_type": "code",
   "execution_count": null,
   "id": "f43264e4",
   "metadata": {
    "scrolled": true
   },
   "outputs": [],
   "source": [
    "df.isnull().sum()"
   ]
  },
  {
   "cell_type": "markdown",
   "id": "45da1f98",
   "metadata": {},
   "source": [
    "não existem nulos neste dataset"
   ]
  },
  {
   "cell_type": "code",
   "execution_count": null,
   "id": "50fb31ad",
   "metadata": {
    "scrolled": false
   },
   "outputs": [],
   "source": [
    "#observando datatypes\n",
    "df.dtypes"
   ]
  },
  {
   "cell_type": "markdown",
   "id": "a8a6d6cd",
   "metadata": {},
   "source": [
    "Existem duas colunas do tipo object. Vamos transforma-las em integer."
   ]
  },
  {
   "cell_type": "code",
   "execution_count": null,
   "id": "6b7b5bfe",
   "metadata": {},
   "outputs": [],
   "source": [
    "#tratando variavel-resposta\n",
    "### 0 para Negative, 1 para Positive\n",
    "df['monkeypox'] = df['monkeypox'].replace('Negative', 0).replace('Positive',1).astype(bool)"
   ]
  },
  {
   "cell_type": "code",
   "execution_count": null,
   "id": "0ff777a9",
   "metadata": {
    "scrolled": false
   },
   "outputs": [],
   "source": [
    "#observando systemic illness\n",
    "print(df['systemic_illness'].unique())\n",
    "#vamos aplicar o get_dummies() no dataframe\n",
    "df = pd.get_dummies(df)\n",
    "df.head(5)"
   ]
  },
  {
   "cell_type": "code",
   "execution_count": null,
   "id": "7067f69a",
   "metadata": {
    "scrolled": true
   },
   "outputs": [],
   "source": [
    "# transformando todo o dataframe em booleano\n",
    "df = df.astype(bool)\n",
    "df.head(5)"
   ]
  },
  {
   "cell_type": "code",
   "execution_count": null,
   "id": "f4f82744",
   "metadata": {},
   "outputs": [],
   "source": [
    "#dividindo em treino e teste\n",
    "X = df.drop(columns = 'monkeypox')\n",
    "y = df['monkeypox']\n",
    "X_train, X_test, y_train, y_test = train_test_split(X, y, random_state = 42)"
   ]
  },
  {
   "cell_type": "markdown",
   "id": "b835c2d5",
   "metadata": {},
   "source": [
    "### 2. Usando XGBoost"
   ]
  },
  {
   "cell_type": "code",
   "execution_count": null,
   "id": "1daf4b6f",
   "metadata": {
    "scrolled": false
   },
   "outputs": [],
   "source": [
    "xgb = XGBClassifier(verbosity = 0, random_state = 42, iteration_range = (0,1))\n",
    "xgb"
   ]
  },
  {
   "cell_type": "code",
   "execution_count": null,
   "id": "171d87d2",
   "metadata": {},
   "outputs": [],
   "source": [
    "params = {\n",
    "    'booster' : ['gbtree', 'dart'],\n",
    "    'learning_rate' : [0.3, 0.5, 0.7], #também chamado de eta\n",
    "    'max_depth' : [3, 5, 7, 11]\n",
    "}"
   ]
  },
  {
   "cell_type": "code",
   "execution_count": null,
   "id": "536e4eee",
   "metadata": {
    "scrolled": true
   },
   "outputs": [],
   "source": [
    "xggrid = RandomizedSearchCV(xgb, params, scoring = 'f1', n_jobs = 4, return_train_score = True, n_iter = 10)\n",
    "xggrid.fit(X_train, y_train)\n",
    "y_pred = xggrid.predict(X_test)"
   ]
  },
  {
   "cell_type": "code",
   "execution_count": null,
   "id": "cc7be0a6",
   "metadata": {
    "scrolled": true
   },
   "outputs": [],
   "source": [
    "print (\"PARA XGBOOST\")\n",
    "print('melhores parâmetros:',xggrid.best_params_)\n",
    "print ('score:', round(xggrid.best_score_**0.5, 3))"
   ]
  },
  {
   "cell_type": "code",
   "execution_count": null,
   "id": "0a153dc6",
   "metadata": {
    "scrolled": true
   },
   "outputs": [],
   "source": [
    "cmxg = confusion_matrix(y_test, y_pred, normalize = 'pred')\n",
    "ConfusionMatrixDisplay(confusion_matrix = cmxg).plot()"
   ]
  },
  {
   "cell_type": "markdown",
   "id": "a5bae238",
   "metadata": {},
   "source": [
    "### 3. Usando DecisionTree"
   ]
  },
  {
   "cell_type": "code",
   "execution_count": null,
   "id": "b8ba9cff",
   "metadata": {},
   "outputs": [],
   "source": [
    "dt = tree.DecisionTreeClassifier(random_state = 42)"
   ]
  },
  {
   "cell_type": "code",
   "execution_count": null,
   "id": "0338fe58",
   "metadata": {},
   "outputs": [],
   "source": [
    "params = {\n",
    "    'max_depth' : [x for x in range (2,X.shape[1])]\n",
    "}"
   ]
  },
  {
   "cell_type": "code",
   "execution_count": null,
   "id": "ea6d4696",
   "metadata": {},
   "outputs": [],
   "source": [
    "dtgrid = RandomizedSearchCV(dt, params, scoring = 'f1', n_jobs = 4, return_train_score = True, n_iter = 10)\n",
    "dtgrid.fit(X_train, y_train)\n",
    "y_pred = dtgrid.predict(X_test)"
   ]
  },
  {
   "cell_type": "code",
   "execution_count": null,
   "id": "381a250e",
   "metadata": {},
   "outputs": [],
   "source": [
    "print (\"PARA DECISION TREE\")\n",
    "print('melhores parâmetros:',dtgrid.best_params_)\n",
    "print ('score:', round(dtgrid.best_score_**0.5, 3))"
   ]
  },
  {
   "cell_type": "code",
   "execution_count": null,
   "id": "7bb6261b",
   "metadata": {
    "scrolled": false
   },
   "outputs": [],
   "source": [
    "cmdt = confusion_matrix(y_test, y_pred, normalize = 'pred')\n",
    "ConfusionMatrixDisplay(confusion_matrix = cmdt).plot()"
   ]
  },
  {
   "cell_type": "markdown",
   "id": "c90da38d",
   "metadata": {},
   "source": [
    "### 4. Considerações Finais\n",
    "Nota-se, portanto, que o Decision Tree é marginalmente superior que o XGBoost no conjunto de dados escolhido, com o RandomizedSearch afetando hiperparâmetros estabelecidos."
   ]
  },
  {
   "cell_type": "code",
   "execution_count": null,
   "id": "d301f687",
   "metadata": {
    "scrolled": false
   },
   "outputs": [],
   "source": [
    "#plottando árvore de decisão com os melhores hiperparâmetros\n",
    "import matplotlib.pyplot as plt\n",
    "fig = plt.figure(figsize=(120,120))\n",
    "dt = tree.DecisionTreeClassifier(max_depth = 4, random_state=42)\n",
    "dt.fit(X_train,y_train)\n",
    "tree.plot_tree(dt, feature_names = df.columns, \n",
    "               class_names = ('Negative', 'Positive'),\n",
    "               filled = True,\n",
    "               fontsize = 50,\n",
    "               label = 'root')"
   ]
  }
 ],
 "metadata": {
  "kernelspec": {
   "display_name": "Python 3 (ipykernel)",
   "language": "python",
   "name": "python3"
  },
  "language_info": {
   "codemirror_mode": {
    "name": "ipython",
    "version": 3
   },
   "file_extension": ".py",
   "mimetype": "text/x-python",
   "name": "python",
   "nbconvert_exporter": "python",
   "pygments_lexer": "ipython3",
   "version": "3.9.12"
  }
 },
 "nbformat": 4,
 "nbformat_minor": 5
}
