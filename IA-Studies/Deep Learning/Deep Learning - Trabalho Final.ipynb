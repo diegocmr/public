{
 "cells": [
  {
   "cell_type": "markdown",
   "id": "79472d5b",
   "metadata": {},
   "source": [
    "# Trabalho Final Deep Learning\n",
    " Baseado no arquivo '300 images of squares, circles, and triangles', localizado no Kaggle\n",
    "\n",
    "https://www.kaggle.com/datasets/cactus3/basicshapes/download?datasetVersionNumber=1"
   ]
  },
  {
   "cell_type": "markdown",
   "id": "7f63d6c0",
   "metadata": {},
   "source": [
    "### Problema:\n",
    "- classificar uma base de dados pequena em quadrados, círculos e triângulos"
   ]
  },
  {
   "cell_type": "markdown",
   "id": "fd6bc0f1",
   "metadata": {},
   "source": [
    "### imports iniciais"
   ]
  },
  {
   "cell_type": "code",
   "execution_count": 1,
   "id": "609a382a",
   "metadata": {},
   "outputs": [],
   "source": [
    "import os\n",
    "import numpy as np\n",
    "import matplotlib.pyplot as plt\n",
    "import keras\n",
    "import random\n",
    "from matplotlib import image\n",
    "from sklearn.metrics import accuracy_score"
   ]
  },
  {
   "cell_type": "markdown",
   "id": "9d27c905",
   "metadata": {},
   "source": [
    "### demonstrando base de dados"
   ]
  },
  {
   "cell_type": "code",
   "execution_count": 2,
   "id": "eb736032",
   "metadata": {
    "scrolled": true
   },
   "outputs": [
    {
     "name": "stdout",
     "output_type": "stream",
     "text": [
      "tipos de desenhos: ['circles', 'squares', 'triangles']\n"
     ]
    }
   ],
   "source": [
    "filepath = os.path.join(os.path.join(os.getcwd(), 'shapes'), 'shapes')\n",
    "tipos = sorted(os.listdir(filepath))\n",
    "print ('tipos de desenhos:', tipos)"
   ]
  },
  {
   "cell_type": "code",
   "execution_count": 3,
   "id": "60ecd71e",
   "metadata": {
    "scrolled": false
   },
   "outputs": [
    {
     "data": {
      "text/plain": [
       "<BarContainer object of 3 artists>"
      ]
     },
     "execution_count": 3,
     "metadata": {},
     "output_type": "execute_result"
    },
    {
     "data": {
      "image/png": "[encoded data removed]",
      "text/plain": [
       "<Figure size 432x288 with 1 Axes>"
      ]
     },
     "metadata": {
      "needs_background": "light"
     },
     "output_type": "display_data"
    }
   ],
   "source": [
    "#observando quantidade de imagens por tipo\n",
    "qtds = [len(os.listdir(os.path.join(filepath, tipo))) for tipo in tipos]\n",
    "plt.barh(tipos, qtds, color = ['red', 'green', 'blue'])"
   ]
  },
  {
   "cell_type": "markdown",
   "id": "44e871a6",
   "metadata": {},
   "source": [
    "notamos acima que **não há enviesamento nos dados**."
   ]
  },
  {
   "cell_type": "markdown",
   "id": "10778832",
   "metadata": {},
   "source": [
    "### tratando a pouca quantidade de dados"
   ]
  },
  {
   "cell_type": "markdown",
   "id": "5a88ebd2",
   "metadata": {},
   "source": [
    "Para resolver o problema, precisaremos gerar imagens que sirvam como insumo para o modelo.\n",
    "\n",
    "Faremos isso usando o ImageDataGenerator:"
   ]
  },
  {
   "cell_type": "code",
   "execution_count": 4,
   "id": "006692ff",
   "metadata": {},
   "outputs": [],
   "source": [
    "from keras.preprocessing.image import ImageDataGenerator"
   ]
  },
  {
   "cell_type": "code",
   "execution_count": 5,
   "id": "0269b6ca",
   "metadata": {
    "scrolled": false
   },
   "outputs": [],
   "source": [
    "#plottando uma imagem aleatória\n",
    "def randFile(path):\n",
    "    randfolder = (os.path.join(path, \\\n",
    "                       os.listdir(path)[random.randint(0, len(os.listdir(filepath))-1)]))\n",
    "    randfile = (os.path.join(randfolder, \\\n",
    "                       os.listdir(randfolder)[random.randint(0, len(os.listdir(randfolder))-1)]))\n",
    "    return randfile\n",
    "\n",
    "def plotImg(img):\n",
    "    try:\n",
    "        plt.imshow(plt.imread(img))\n",
    "    except:\n",
    "        plt.imshow(img, vmin=0, vmax=255)\n",
    "    \n",
    "def showNpImg(file):\n",
    "    np.set_printoptions(linewidth=np.inf)\n",
    "    try:\n",
    "        print(np.round(image.imread(file)[:,:,0],1).astype(np.uint8))\n",
    "    except:\n",
    "        print(np.round(file[:,:,0],1).astype(np.uint8))"
   ]
  },
  {
   "cell_type": "markdown",
   "id": "24e86731",
   "metadata": {},
   "source": [
    "Demonstrando generator"
   ]
  },
  {
   "cell_type": "code",
   "execution_count": 6,
   "id": "4fc3d362",
   "metadata": {},
   "outputs": [],
   "source": [
    "#obtendo arquivo aleatório e gerando arquivo com base neste\n",
    "randfile = randFile(filepath)\n",
    "gen = ImageDataGenerator(rotation_range = 10, width_shift_range = 0.1,\n",
    "                        height_shift_range = 0.1, horizontal_flip = True,\n",
    "                        rescale=1/255., validation_split=0.2)\n",
    "gen_iter = gen.flow(np.expand_dims(plt.imread(randfile),0))\n",
    "#gerando modificações da imagem acima\n",
    "gen_img = next(gen_iter)[0]"
   ]
  },
  {
   "cell_type": "code",
   "execution_count": 7,
   "id": "f057e6b5",
   "metadata": {
    "scrolled": true
   },
   "outputs": [
    {
     "name": "stdout",
     "output_type": "stream",
     "text": [
      "[[1 1 1 1 1 1 1 1 1 1 1 1 1 1 1 1 1 1 1 1 1 1 1 1 1 1 1 1]\n",
      " [1 1 1 1 1 1 1 1 1 1 1 1 1 1 1 1 1 1 1 1 1 1 1 1 1 1 1 1]\n",
      " [1 1 1 1 1 1 1 1 1 1 1 1 1 1 1 1 1 1 1 1 1 1 1 1 1 1 1 1]\n",
      " [1 1 1 1 1 1 1 1 1 1 1 1 1 1 1 1 1 1 1 1 1 1 1 1 1 1 1 1]\n",
      " [1 1 1 1 1 1 1 1 1 1 1 1 1 1 1 1 1 1 1 1 1 1 1 1 1 1 1 1]\n",
      " [1 1 1 1 1 1 1 1 1 1 1 1 1 1 1 1 1 1 1 1 1 1 1 1 1 1 1 1]\n",
      " [1 1 1 1 1 1 1 1 1 1 1 1 1 1 1 1 1 1 1 1 1 1 1 1 1 1 1 1]\n",
      " [1 1 1 1 1 1 1 1 1 1 1 1 1 1 1 1 1 1 1 1 1 1 1 1 1 1 1 1]\n",
      " [1 1 1 1 1 1 1 1 1 1 1 1 1 1 1 1 1 1 1 1 1 1 1 1 1 1 1 1]\n",
      " [1 1 1 1 1 1 1 1 1 1 1 1 1 1 1 1 1 1 1 1 1 1 1 1 1 1 1 1]\n",
      " [1 1 1 1 1 1 1 1 1 1 1 1 1 1 1 1 1 1 1 1 1 1 1 1 1 1 1 1]\n",
      " [1 1 1 1 1 1 1 1 1 1 1 1 1 1 1 1 1 1 1 0 0 1 1 1 1 1 1 1]\n",
      " [1 1 1 1 1 1 1 1 1 1 1 1 1 1 1 1 1 0 0 0 0 0 1 1 1 1 1 1]\n",
      " [1 1 1 1 1 1 1 1 1 1 1 1 1 1 1 0 0 0 0 1 0 0 0 1 1 1 1 1]\n",
      " [1 1 1 1 1 1 1 1 1 1 1 1 1 1 0 0 0 0 1 1 1 0 0 1 1 1 1 1]\n",
      " [1 1 1 1 1 1 1 1 1 1 1 1 1 0 0 0 1 1 1 1 1 0 0 1 1 1 1 1]\n",
      " [1 1 1 1 1 1 1 1 1 1 1 1 1 0 0 1 1 1 1 1 1 0 0 1 1 1 1 1]\n",
      " [1 1 1 1 1 1 1 1 1 1 1 1 0 0 0 1 1 1 1 1 1 0 0 1 1 1 1 1]\n",
      " [1 1 1 1 1 1 1 1 1 1 1 1 0 0 1 1 1 1 1 1 1 0 0 1 1 1 1 1]\n",
      " [1 1 1 1 1 1 1 1 1 1 1 1 0 0 1 1 1 1 1 1 0 0 0 1 1 1 1 1]\n",
      " [1 1 1 1 1 1 1 1 1 1 1 1 0 0 1 1 1 1 1 1 0 0 1 1 1 1 1 1]\n",
      " [1 1 1 1 1 1 1 1 1 1 1 1 0 0 1 1 1 1 1 0 0 0 1 1 1 1 1 1]\n",
      " [1 1 1 1 1 1 1 1 1 1 1 1 0 0 1 1 1 1 0 0 0 1 1 1 1 1 1 1]\n",
      " [1 1 1 1 1 1 1 1 1 1 1 1 0 0 1 1 1 0 0 0 1 1 1 1 1 1 1 1]\n",
      " [1 1 1 1 1 1 1 1 1 1 1 1 0 0 0 0 0 0 0 1 1 1 1 1 1 1 1 1]\n",
      " [1 1 1 1 1 1 1 1 1 1 1 1 1 1 0 0 0 0 1 1 1 1 1 1 1 1 1 1]\n",
      " [1 1 1 1 1 1 1 1 1 1 1 1 1 1 1 1 1 1 1 1 1 1 1 1 1 1 1 1]\n",
      " [1 1 1 1 1 1 1 1 1 1 1 1 1 1 1 1 1 1 1 1 1 1 1 1 1 1 1 1]]\n"
     ]
    }
   ],
   "source": [
    "showNpImg(randfile) #imagem original"
   ]
  },
  {
   "cell_type": "code",
   "execution_count": 8,
   "id": "52a0236d",
   "metadata": {
    "scrolled": true
   },
   "outputs": [
    {
     "name": "stdout",
     "output_type": "stream",
     "text": [
      "[[0 0 0 0 0 0 0 0 0 0 0 0 0 0 0 0 0 0 0 0 0 0 0 0 0 0 0 0]\n",
      " [0 0 0 0 0 0 0 0 0 0 0 0 0 0 0 0 0 0 0 0 0 0 0 0 0 0 0 0]\n",
      " [0 0 0 0 0 0 0 0 0 0 0 0 0 0 0 0 0 0 0 0 0 0 0 0 0 0 0 0]\n",
      " [0 0 0 0 0 0 0 0 0 0 0 0 0 0 0 0 0 0 0 0 0 0 0 0 0 0 0 0]\n",
      " [0 0 0 0 0 0 0 0 0 0 0 0 0 0 0 0 0 0 0 0 0 0 0 0 0 0 0 0]\n",
      " [0 0 0 0 0 0 0 0 0 0 0 0 0 0 0 0 0 0 0 0 0 0 0 0 0 0 0 0]\n",
      " [0 0 0 0 0 0 0 0 0 0 0 0 0 0 0 0 0 0 0 0 0 0 0 0 0 0 0 0]\n",
      " [0 0 0 0 0 0 0 0 0 0 0 0 0 0 0 0 0 0 0 0 0 0 0 0 0 0 0 0]\n",
      " [0 0 0 0 0 0 0 0 0 0 0 0 0 0 0 0 0 0 0 0 0 0 0 0 0 0 0 0]\n",
      " [0 0 0 0 0 0 0 0 0 0 0 0 0 0 0 0 0 0 0 0 0 0 0 0 0 0 0 0]\n",
      " [0 0 0 0 0 0 0 0 0 0 0 0 0 0 0 0 0 0 0 0 0 0 0 0 0 0 0 0]\n",
      " [0 0 0 0 0 0 0 0 0 0 0 0 0 0 0 0 0 0 0 0 0 0 0 0 0 0 0 0]\n",
      " [0 0 0 0 0 0 0 0 0 0 0 0 0 0 0 0 0 0 0 0 0 0 0 0 0 0 0 0]\n",
      " [0 0 0 0 0 0 0 0 0 0 0 0 0 0 0 0 0 0 0 0 0 0 0 0 0 0 0 0]\n",
      " [0 0 0 0 0 0 0 0 0 0 0 0 0 0 0 0 0 0 0 0 0 0 0 0 0 0 0 0]\n",
      " [0 0 0 0 0 0 0 0 0 0 0 0 0 0 0 0 0 0 0 0 0 0 0 0 0 0 0 0]\n",
      " [0 0 0 0 0 0 0 0 0 0 0 0 0 0 0 0 0 0 0 0 0 0 0 0 0 0 0 0]\n",
      " [0 0 0 0 0 0 0 0 0 0 0 0 0 0 0 0 0 0 0 0 0 0 0 0 0 0 0 0]\n",
      " [0 0 0 0 0 0 0 0 0 0 0 0 0 0 0 0 0 0 0 0 0 0 0 0 0 0 0 0]\n",
      " [0 0 0 0 0 0 0 0 0 0 0 0 0 0 0 0 0 0 0 0 0 0 0 0 0 0 0 0]\n",
      " [0 0 0 0 0 0 0 0 0 0 0 0 0 0 0 0 0 0 0 0 0 0 0 0 0 0 0 0]\n",
      " [0 0 0 0 0 0 0 0 0 0 0 0 0 0 0 0 0 0 0 0 0 0 0 0 0 0 0 0]\n",
      " [0 0 0 0 0 0 0 0 0 0 0 0 0 0 0 0 0 0 0 0 0 0 0 0 0 0 0 0]\n",
      " [0 0 0 0 0 0 0 0 0 0 0 0 0 0 0 0 0 0 0 0 0 0 0 0 0 0 0 0]\n",
      " [0 0 0 0 0 0 0 0 0 0 0 0 0 0 0 0 0 0 0 0 0 0 0 0 0 0 0 0]\n",
      " [0 0 0 0 0 0 0 0 0 0 0 0 0 0 0 0 0 0 0 0 0 0 0 0 0 0 0 0]\n",
      " [0 0 0 0 0 0 0 0 0 0 0 0 0 0 0 0 0 0 0 0 0 0 0 0 0 0 0 0]\n",
      " [0 0 0 0 0 0 0 0 0 0 0 0 0 0 0 0 0 0 0 0 0 0 0 0 0 0 0 0]]\n"
     ]
    }
   ],
   "source": [
    "showNpImg(gen_img) ###imagem gerada"
   ]
  },
  {
   "cell_type": "code",
   "execution_count": 9,
   "id": "3897e0bf",
   "metadata": {},
   "outputs": [
    {
     "data": {
      "image/png": "[encoded data removed]",
      "text/plain": [
       "<Figure size 1440x1440 with 2 Axes>"
      ]
     },
     "metadata": {
      "needs_background": "light"
     },
     "output_type": "display_data"
    }
   ],
   "source": [
    "#demonstrando imagens lado a lado\n",
    "fig, axes = plt.subplots(1,2,figsize = (20,20))\n",
    "axes = axes.flatten()\n",
    "for img, ax in zip([image.imread(randfile), gen_img*255],axes):\n",
    "    ax.imshow(img, vmin=0, vmax=255)"
   ]
  },
  {
   "cell_type": "markdown",
   "id": "025892f4",
   "metadata": {},
   "source": [
    "### Modelo"
   ]
  },
  {
   "cell_type": "code",
   "execution_count": 10,
   "id": "81940513",
   "metadata": {
    "scrolled": true
   },
   "outputs": [
    {
     "name": "stdout",
     "output_type": "stream",
     "text": [
      "Found 240 images belonging to 3 classes.\n",
      "Found 60 images belonging to 3 classes.\n"
     ]
    }
   ],
   "source": [
    "#usando o gerador para obter classes dos diretórios e gerar imagens, separando em treino e teste\n",
    "treino = gen.flow_from_directory(filepath, color_mode = 'rgb',\n",
    "                                target_size = (28,28), shuffle = True, class_mode = 'categorical'\n",
    "                                ,seed=42, batch_size = 32, subset = 'training')\n",
    "teste = gen.flow_from_directory(filepath, color_mode = 'rgb',\n",
    "                                target_size = (28,28), shuffle = True, class_mode = 'categorical'\n",
    "                                ,seed=42, batch_size = 32, subset = 'validation')"
   ]
  },
  {
   "cell_type": "code",
   "execution_count": 11,
   "id": "7a513b35",
   "metadata": {},
   "outputs": [
    {
     "data": {
      "text/plain": [
       "{'circles': 0, 'squares': 1, 'triangles': 2}"
      ]
     },
     "execution_count": 11,
     "metadata": {},
     "output_type": "execute_result"
    }
   ],
   "source": [
    "teste.class_indices"
   ]
  },
  {
   "cell_type": "markdown",
   "id": "288726f9",
   "metadata": {},
   "source": [
    "construindo CNN"
   ]
  },
  {
   "cell_type": "code",
   "execution_count": 12,
   "id": "9d812207",
   "metadata": {},
   "outputs": [],
   "source": [
    "from tensorflow.keras.models import Sequential\n",
    "from tensorflow.keras.layers import Dense, Conv2D, MaxPool2D, Flatten, Dropout, BatchNormalization, Reshape\n",
    "from tensorflow.keras.callbacks import EarlyStopping\n",
    "from tensorflow.keras.preprocessing.image import ImageDataGenerator"
   ]
  },
  {
   "cell_type": "code",
   "execution_count": 13,
   "id": "a190e33e",
   "metadata": {},
   "outputs": [
    {
     "name": "stdout",
     "output_type": "stream",
     "text": [
      "Requirement already satisfied: visualkeras in c:\\users\\diego\\anaconda3\\lib\\site-packages (0.0.2)\n",
      "Requirement already satisfied: pillow>=6.2.0 in c:\\users\\diego\\anaconda3\\lib\\site-packages (from visualkeras) (9.0.1)\n",
      "Requirement already satisfied: aggdraw>=1.3.11 in c:\\users\\diego\\anaconda3\\lib\\site-packages (from visualkeras) (1.3.15)\n",
      "Requirement already satisfied: numpy>=1.18.1 in c:\\users\\diego\\anaconda3\\lib\\site-packages (from visualkeras) (1.21.5)\n"
     ]
    }
   ],
   "source": [
    "!pip install visualkeras\n",
    "import visualkeras"
   ]
  },
  {
   "cell_type": "code",
   "execution_count": 17,
   "id": "671e9be2",
   "metadata": {
    "scrolled": true
   },
   "outputs": [
    {
     "name": "stdout",
     "output_type": "stream",
     "text": [
      "Model: \"sequential_1\"\n",
      "_________________________________________________________________\n",
      " Layer (type)                Output Shape              Param #   \n",
      "=================================================================\n",
      " conv2d_4 (Conv2D)           (None, 26, 26, 32)        896       \n",
      "                                                                 \n",
      " conv2d_5 (Conv2D)           (None, 24, 24, 64)        18496     \n",
      "                                                                 \n",
      " conv2d_6 (Conv2D)           (None, 22, 22, 128)       73856     \n",
      "                                                                 \n",
      " conv2d_7 (Conv2D)           (None, 20, 20, 256)       295168    \n",
      "                                                                 \n",
      " flatten_1 (Flatten)         (None, 102400)            0         \n",
      "                                                                 \n",
      " dense_1 (Dense)             (None, 3)                 307203    \n",
      "                                                                 \n",
      "=================================================================\n",
      "Total params: 695,619\n",
      "Trainable params: 695,619\n",
      "Non-trainable params: 0\n",
      "_________________________________________________________________\n"
     ]
    }
   ],
   "source": [
    "# construindo camadas convolucionais\n",
    "model=Sequential()\n",
    "callback = [EarlyStopping(monitor='loss', patience=3, mode=\"auto\")]\n",
    "\n",
    "model.add(Conv2D(32,activation='relu', kernel_size=3, input_shape=(28,28,3)))\n",
    "model.add(Conv2D(64,activation='relu', kernel_size=3))\n",
    "model.add(Conv2D(128,activation='relu', kernel_size=3))\n",
    "model.add(Conv2D(256,activation='relu', kernel_size=3))\n",
    "\n",
    "model.add(Flatten())\n",
    "#cmodel.add(Dense(500,activation='softmax'))\n",
    "\n",
    "model.add(Dense(3,activation='softmax'))\n",
    "model.summary()"
   ]
  },
  {
   "cell_type": "code",
   "execution_count": 18,
   "id": "6554e983",
   "metadata": {},
   "outputs": [],
   "source": [
    "model.compile(\n",
    "    optimizer=keras.optimizers.Adam(learning_rate = 0.001),\n",
    "    loss=keras.losses.categorical_crossentropy,\n",
    "    metrics=[\"accuracy\"]\n",
    ")"
   ]
  },
  {
   "cell_type": "code",
   "execution_count": null,
   "id": "c4d641ca",
   "metadata": {
    "scrolled": false
   },
   "outputs": [
    {
     "name": "stdout",
     "output_type": "stream",
     "text": [
      "Epoch 1/50\n",
      "8/8 [==============================] - 4s 403ms/step - loss: 1.2398 - accuracy: 0.3375 - val_loss: 1.1319 - val_accuracy: 0.3333\n",
      "Epoch 2/50\n",
      "8/8 [==============================] - 3s 368ms/step - loss: 1.1098 - accuracy: 0.3042 - val_loss: 1.1001 - val_accuracy: 0.3333\n",
      "Epoch 3/50\n",
      "8/8 [==============================] - 3s 361ms/step - loss: 1.0999 - accuracy: 0.3333 - val_loss: 1.0961 - val_accuracy: 0.3333\n",
      "Epoch 4/50\n",
      "8/8 [==============================] - 3s 362ms/step - loss: 1.0963 - accuracy: 0.3417 - val_loss: 1.0925 - val_accuracy: 0.5000\n",
      "Epoch 5/50\n",
      "8/8 [==============================] - 3s 363ms/step - loss: 1.0859 - accuracy: 0.3917 - val_loss: 1.0596 - val_accuracy: 0.4667\n",
      "Epoch 6/50\n",
      "8/8 [==============================] - 3s 389ms/step - loss: 1.0527 - accuracy: 0.4083 - val_loss: 0.9725 - val_accuracy: 0.4667\n",
      "Epoch 7/50\n",
      "8/8 [==============================] - 3s 363ms/step - loss: 1.0524 - accuracy: 0.4708 - val_loss: 1.0268 - val_accuracy: 0.4333\n",
      "Epoch 8/50\n",
      "8/8 [==============================] - 3s 360ms/step - loss: 1.0504 - accuracy: 0.4542 - val_loss: 1.0108 - val_accuracy: 0.5500\n",
      "Epoch 9/50\n",
      "8/8 [==============================] - 3s 364ms/step - loss: 0.9877 - accuracy: 0.5542 - val_loss: 0.9325 - val_accuracy: 0.5833\n",
      "Epoch 10/50\n",
      "8/8 [==============================] - 3s 387ms/step - loss: 0.9371 - accuracy: 0.6083 - val_loss: 0.8995 - val_accuracy: 0.6833\n",
      "Epoch 11/50\n",
      "8/8 [==============================] - 3s 362ms/step - loss: 0.8140 - accuracy: 0.6500 - val_loss: 0.5329 - val_accuracy: 0.8167\n",
      "Epoch 12/50\n",
      "4/8 [==============>...............] - ETA: 1s - loss: 0.7684 - accuracy: 0.7321"
     ]
    }
   ],
   "source": [
    "model.fit(treino, validation_data=teste, callbacks=callback, epochs=50)"
   ]
  },
  {
   "cell_type": "markdown",
   "id": "47dbc8c5",
   "metadata": {},
   "source": [
    "### predizendo tipos de imagens aleatoriamente"
   ]
  },
  {
   "cell_type": "code",
   "execution_count": null,
   "id": "c8597b36",
   "metadata": {
    "scrolled": true
   },
   "outputs": [],
   "source": [
    "def randomPred(filepath):\n",
    "    randfile = image.imread(randFile(filepath))\n",
    "    pred = model.predict(np.expand_dims(randfile, axis=0)).argmax(axis=-1)\n",
    "    plotImg(randfile)\n",
    "    print (tipos[pred[0]])\n",
    "randomPred(filepath)"
   ]
  },
  {
   "cell_type": "markdown",
   "id": "7bca6f74",
   "metadata": {},
   "source": [
    "### predizendo um desenho que fiz no paint"
   ]
  },
  {
   "cell_type": "code",
   "execution_count": null,
   "id": "fa4c9948",
   "metadata": {},
   "outputs": [],
   "source": [
    "meu_desenho = image.imread(os.path.join(os.getcwd(),'meu_desenho.png'))\n",
    "plt.imshow(meu_desenho)\n",
    "print (tipos[model.predict(np.expand_dims(meu_desenho, axis=0)).argmax(axis=-1)[0]])"
   ]
  }
 ],
 "metadata": {
  "kernelspec": {
   "display_name": "Python 3 (ipykernel)",
   "language": "python",
   "name": "python3"
  },
  "language_info": {
   "codemirror_mode": {
    "name": "ipython",
    "version": 3
   },
   "file_extension": ".py",
   "mimetype": "text/x-python",
   "name": "python",
   "nbconvert_exporter": "python",
   "pygments_lexer": "ipython3",
   "version": "3.9.12"
  }
 },
 "nbformat": 4,
 "nbformat_minor": 5
}
