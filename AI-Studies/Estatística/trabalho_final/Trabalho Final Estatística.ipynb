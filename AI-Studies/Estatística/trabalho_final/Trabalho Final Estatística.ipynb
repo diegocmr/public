{
 "cells": [
  {
   "cell_type": "markdown",
   "id": "529930c5",
   "metadata": {},
   "source": [
    "## Trabalho Final Estatística"
   ]
  },
  {
   "cell_type": "markdown",
   "id": "af64b66e",
   "metadata": {},
   "source": [
    "### 1. exploração inicial"
   ]
  },
  {
   "cell_type": "markdown",
   "id": "6b66ede0",
   "metadata": {},
   "source": [
    "#### importando e configurando libs"
   ]
  },
  {
   "cell_type": "code",
   "execution_count": 1,
   "id": "22d37e2c",
   "metadata": {},
   "outputs": [],
   "source": [
    "import pandas as pd\n",
    "import numpy as np\n",
    "from matplotlib import pyplot as plt \n",
    "plt.rcParams[\"figure.figsize\"] = (20,20)"
   ]
  },
  {
   "cell_type": "markdown",
   "id": "46e51ae8",
   "metadata": {},
   "source": [
    "#### importando arquivos"
   ]
  },
  {
   "cell_type": "code",
   "execution_count": 3,
   "id": "ad04cf74",
   "metadata": {},
   "outputs": [],
   "source": [
    "base_treino = 'train.csv'\n",
    "df_train = pd.read_csv(base_treino)\n",
    "df_train.set_index('id', inplace=True)"
   ]
  },
  {
   "cell_type": "code",
   "execution_count": 4,
   "id": "1cad76ed",
   "metadata": {},
   "outputs": [
    {
     "name": "stdout",
     "output_type": "stream",
     "text": [
      "target\n"
     ]
    }
   ],
   "source": [
    "for col in df_train.columns:\n",
    "    if col not in df_test.columns:\n",
    "        print (col)    "
   ]
  },
  {
   "cell_type": "markdown",
   "id": "9cee674e",
   "metadata": {},
   "source": [
    "#### explorando DataFrame"
   ]
  },
  {
   "cell_type": "code",
   "execution_count": 5,
   "id": "17ef8127",
   "metadata": {},
   "outputs": [
    {
     "data": {
      "text/html": [
       "<div>\n",
       "<style scoped>\n",
       "    .dataframe tbody tr th:only-of-type {\n",
       "        vertical-align: middle;\n",
       "    }\n",
       "\n",
       "    .dataframe tbody tr th {\n",
       "        vertical-align: top;\n",
       "    }\n",
       "\n",
       "    .dataframe thead th {\n",
       "        text-align: right;\n",
       "    }\n",
       "</style>\n",
       "<table border=\"1\" class=\"dataframe\">\n",
       "  <thead>\n",
       "    <tr style=\"text-align: right;\">\n",
       "      <th></th>\n",
       "      <th>016399044a</th>\n",
       "      <th>023c68873b</th>\n",
       "      <th>0342faceb5</th>\n",
       "      <th>04e7268385</th>\n",
       "      <th>06888ceac9</th>\n",
       "      <th>072b7e8f27</th>\n",
       "      <th>087235d61e</th>\n",
       "      <th>0b846350ef</th>\n",
       "      <th>0e2ab0831c</th>\n",
       "      <th>12eda2d982</th>\n",
       "      <th>...</th>\n",
       "      <th>f013b60e50</th>\n",
       "      <th>f0a0febd35</th>\n",
       "      <th>f1f0984934</th>\n",
       "      <th>f66b98dd69</th>\n",
       "      <th>fbf66c8021</th>\n",
       "      <th>fdf8628ca7</th>\n",
       "      <th>fe0318e273</th>\n",
       "      <th>fe8cdd80ba</th>\n",
       "      <th>ffd1cdcfc1</th>\n",
       "      <th>target</th>\n",
       "    </tr>\n",
       "    <tr>\n",
       "      <th>id</th>\n",
       "      <th></th>\n",
       "      <th></th>\n",
       "      <th></th>\n",
       "      <th></th>\n",
       "      <th></th>\n",
       "      <th></th>\n",
       "      <th></th>\n",
       "      <th></th>\n",
       "      <th></th>\n",
       "      <th></th>\n",
       "      <th></th>\n",
       "      <th></th>\n",
       "      <th></th>\n",
       "      <th></th>\n",
       "      <th></th>\n",
       "      <th></th>\n",
       "      <th></th>\n",
       "      <th></th>\n",
       "      <th></th>\n",
       "      <th></th>\n",
       "      <th></th>\n",
       "    </tr>\n",
       "  </thead>\n",
       "  <tbody>\n",
       "    <tr>\n",
       "      <th>0</th>\n",
       "      <td>6447</td>\n",
       "      <td>d19e3b17239b50f7055ea4ea09f15e5a</td>\n",
       "      <td>5372</td>\n",
       "      <td>35812</td>\n",
       "      <td>1</td>\n",
       "      <td>171.464188</td>\n",
       "      <td>14</td>\n",
       "      <td>-0.318226</td>\n",
       "      <td>0.207681</td>\n",
       "      <td>76.302524</td>\n",
       "      <td>...</td>\n",
       "      <td>0.970187</td>\n",
       "      <td>-5.994271</td>\n",
       "      <td>abe90d9881c0790f47e139cf3e915f2f</td>\n",
       "      <td>0.958330</td>\n",
       "      <td>91.778563</td>\n",
       "      <td>1058</td>\n",
       "      <td>1.000501</td>\n",
       "      <td>40.297779</td>\n",
       "      <td>1.740526</td>\n",
       "      <td>0.536383</td>\n",
       "    </tr>\n",
       "    <tr>\n",
       "      <th>1</th>\n",
       "      <td>6416</td>\n",
       "      <td>9f40ab30d26568e05668bf85381dc475</td>\n",
       "      <td>5407</td>\n",
       "      <td>36031</td>\n",
       "      <td>1</td>\n",
       "      <td>198.668261</td>\n",
       "      <td>44</td>\n",
       "      <td>6.042920</td>\n",
       "      <td>-7.343764</td>\n",
       "      <td>67.815740</td>\n",
       "      <td>...</td>\n",
       "      <td>0.852381</td>\n",
       "      <td>66.551540</td>\n",
       "      <td>0dc8ab4be161195c1c90488d4d9313b7</td>\n",
       "      <td>0.543291</td>\n",
       "      <td>26.234959</td>\n",
       "      <td>1036</td>\n",
       "      <td>1.000598</td>\n",
       "      <td>6.030759</td>\n",
       "      <td>7.085240</td>\n",
       "      <td>0.426536</td>\n",
       "    </tr>\n",
       "    <tr>\n",
       "      <th>2</th>\n",
       "      <td>6322</td>\n",
       "      <td>9d4444651ceac919e4fee3ea44bbf44f</td>\n",
       "      <td>5381</td>\n",
       "      <td>35959</td>\n",
       "      <td>1</td>\n",
       "      <td>215.160189</td>\n",
       "      <td>43</td>\n",
       "      <td>0.287232</td>\n",
       "      <td>0.038272</td>\n",
       "      <td>48.315810</td>\n",
       "      <td>...</td>\n",
       "      <td>0.744513</td>\n",
       "      <td>63.802229</td>\n",
       "      <td>fd687ed31958a22f80e48865e669987e</td>\n",
       "      <td>0.771631</td>\n",
       "      <td>48.960842</td>\n",
       "      <td>1039</td>\n",
       "      <td>0.000571</td>\n",
       "      <td>40.269326</td>\n",
       "      <td>5.315980</td>\n",
       "      <td>0.498649</td>\n",
       "    </tr>\n",
       "    <tr>\n",
       "      <th>3</th>\n",
       "      <td>6479</td>\n",
       "      <td>53116e9d726bcf4c0a5136460ce4036f</td>\n",
       "      <td>5299</td>\n",
       "      <td>35847</td>\n",
       "      <td>1</td>\n",
       "      <td>5610.919136</td>\n",
       "      <td>72</td>\n",
       "      <td>0.023388</td>\n",
       "      <td>-0.043669</td>\n",
       "      <td>26.135256</td>\n",
       "      <td>...</td>\n",
       "      <td>0.938092</td>\n",
       "      <td>57.495654</td>\n",
       "      <td>b1d448724055697b94a122878757a54a</td>\n",
       "      <td>0.133395</td>\n",
       "      <td>6.236324</td>\n",
       "      <td>1044</td>\n",
       "      <td>1.000704</td>\n",
       "      <td>29.115058</td>\n",
       "      <td>1.783141</td>\n",
       "      <td>1.013567</td>\n",
       "    </tr>\n",
       "    <tr>\n",
       "      <th>4</th>\n",
       "      <td>6425</td>\n",
       "      <td>b7d2fb1493994729b2cadc6716cde91e</td>\n",
       "      <td>5386</td>\n",
       "      <td>36016</td>\n",
       "      <td>1</td>\n",
       "      <td>306.835761</td>\n",
       "      <td>19</td>\n",
       "      <td>-0.722365</td>\n",
       "      <td>0.918951</td>\n",
       "      <td>18.337088</td>\n",
       "      <td>...</td>\n",
       "      <td>1.106354</td>\n",
       "      <td>203.894922</td>\n",
       "      <td>3d80cf3d6e641fe32f4abc1fd522e0bc</td>\n",
       "      <td>0.176264</td>\n",
       "      <td>19.348591</td>\n",
       "      <td>998</td>\n",
       "      <td>1.000581</td>\n",
       "      <td>44.047487</td>\n",
       "      <td>3.219030</td>\n",
       "      <td>4.008763</td>\n",
       "    </tr>\n",
       "  </tbody>\n",
       "</table>\n",
       "<p>5 rows × 107 columns</p>\n",
       "</div>"
      ],
      "text/plain": [
       "    016399044a                        023c68873b  0342faceb5  04e7268385  \\\n",
       "id                                                                         \n",
       "0         6447  d19e3b17239b50f7055ea4ea09f15e5a        5372       35812   \n",
       "1         6416  9f40ab30d26568e05668bf85381dc475        5407       36031   \n",
       "2         6322  9d4444651ceac919e4fee3ea44bbf44f        5381       35959   \n",
       "3         6479  53116e9d726bcf4c0a5136460ce4036f        5299       35847   \n",
       "4         6425  b7d2fb1493994729b2cadc6716cde91e        5386       36016   \n",
       "\n",
       "    06888ceac9   072b7e8f27  087235d61e  0b846350ef  0e2ab0831c  12eda2d982  \\\n",
       "id                                                                            \n",
       "0            1   171.464188          14   -0.318226    0.207681   76.302524   \n",
       "1            1   198.668261          44    6.042920   -7.343764   67.815740   \n",
       "2            1   215.160189          43    0.287232    0.038272   48.315810   \n",
       "3            1  5610.919136          72    0.023388   -0.043669   26.135256   \n",
       "4            1   306.835761          19   -0.722365    0.918951   18.337088   \n",
       "\n",
       "    ...  f013b60e50  f0a0febd35                        f1f0984934  f66b98dd69  \\\n",
       "id  ...                                                                         \n",
       "0   ...    0.970187   -5.994271  abe90d9881c0790f47e139cf3e915f2f    0.958330   \n",
       "1   ...    0.852381   66.551540  0dc8ab4be161195c1c90488d4d9313b7    0.543291   \n",
       "2   ...    0.744513   63.802229  fd687ed31958a22f80e48865e669987e    0.771631   \n",
       "3   ...    0.938092   57.495654  b1d448724055697b94a122878757a54a    0.133395   \n",
       "4   ...    1.106354  203.894922  3d80cf3d6e641fe32f4abc1fd522e0bc    0.176264   \n",
       "\n",
       "    fbf66c8021  fdf8628ca7  fe0318e273  fe8cdd80ba  ffd1cdcfc1    target  \n",
       "id                                                                        \n",
       "0    91.778563        1058    1.000501   40.297779    1.740526  0.536383  \n",
       "1    26.234959        1036    1.000598    6.030759    7.085240  0.426536  \n",
       "2    48.960842        1039    0.000571   40.269326    5.315980  0.498649  \n",
       "3     6.236324        1044    1.000704   29.115058    1.783141  1.013567  \n",
       "4    19.348591         998    1.000581   44.047487    3.219030  4.008763  \n",
       "\n",
       "[5 rows x 107 columns]"
      ]
     },
     "execution_count": 5,
     "metadata": {},
     "output_type": "execute_result"
    }
   ],
   "source": [
    "df_train.head()"
   ]
  },
  {
   "cell_type": "code",
   "execution_count": 6,
   "id": "ba6dc9e0",
   "metadata": {},
   "outputs": [
    {
     "name": "stdout",
     "output_type": "stream",
     "text": [
      "24976 linhas\n",
      " 106 colunas\n"
     ]
    }
   ],
   "source": [
    "# explorando df\n",
    "print (df_train.shape[0], 'linhas\\n', df_test.shape[1], 'colunas')"
   ]
  },
  {
   "cell_type": "code",
   "execution_count": 7,
   "id": "86f6cf56",
   "metadata": {},
   "outputs": [
    {
     "data": {
      "text/plain": [
       "float64    69\n",
       "int64      31\n",
       "object      7\n",
       "dtype: int64"
      ]
     },
     "execution_count": 7,
     "metadata": {},
     "output_type": "execute_result"
    }
   ],
   "source": [
    "#tipos de colunas\n",
    "df_train.dtypes.value_counts()"
   ]
  },
  {
   "cell_type": "markdown",
   "id": "808b977d",
   "metadata": {},
   "source": [
    "#### verificando variável target"
   ]
  },
  {
   "cell_type": "code",
   "execution_count": 8,
   "id": "4e111a62",
   "metadata": {
    "scrolled": false
   },
   "outputs": [
    {
     "data": {
      "text/plain": [
       "count    24976.000000\n",
       "mean         1.660858\n",
       "std          2.251265\n",
       "min         -0.239838\n",
       "25%          0.503120\n",
       "50%          0.983784\n",
       "75%          1.968016\n",
       "max         61.326129\n",
       "Name: target, dtype: float64"
      ]
     },
     "execution_count": 8,
     "metadata": {},
     "output_type": "execute_result"
    }
   ],
   "source": [
    "#variável target\n",
    "df_train['target'].describe()\n",
    "### aqui notamos que a variável target é contínua"
   ]
  },
  {
   "cell_type": "markdown",
   "id": "a7c7286a",
   "metadata": {},
   "source": [
    "### 2. transformação inicial"
   ]
  },
  {
   "cell_type": "markdown",
   "id": "01ea8311",
   "metadata": {},
   "source": [
    "#### separando dataframes em x e y"
   ]
  },
  {
   "cell_type": "code",
   "execution_count": 9,
   "id": "a6565e41",
   "metadata": {},
   "outputs": [],
   "source": [
    "x_total = df_train.drop(['target'], axis=1)\n",
    "y_total = df_train['target']"
   ]
  },
  {
   "cell_type": "markdown",
   "id": "b5613105",
   "metadata": {},
   "source": [
    "#### realizando separação de dados de treino em treino e teste, para validação"
   ]
  },
  {
   "cell_type": "code",
   "execution_count": 10,
   "id": "cd522599",
   "metadata": {},
   "outputs": [],
   "source": [
    "from sklearn.model_selection import train_test_split\n",
    "x, x_t, y, y_t = train_test_split(x_total, y_total, test_size = 0.33, random_state = 42)"
   ]
  },
  {
   "cell_type": "markdown",
   "id": "69253204",
   "metadata": {},
   "source": [
    "#### verificando correlação em x"
   ]
  },
  {
   "cell_type": "code",
   "execution_count": 11,
   "id": "9499e1f1",
   "metadata": {
    "scrolled": false
   },
   "outputs": [
    {
     "data": {
      "text/plain": [
       "<AxesSubplot:>"
      ]
     },
     "execution_count": 11,
     "metadata": {},
     "output_type": "execute_result"
    },
    {
     "data": {
      "image/png": "[encoded data removed]",
      "text/plain": [
       "<Figure size 1440x1440 with 2 Axes>"
      ]
     },
     "metadata": {
      "needs_background": "light"
     },
     "output_type": "display_data"
    }
   ],
   "source": [
    "import seaborn as sn\n",
    "x_corr = x.corr(method='pearson')\n",
    "sn.heatmap(x_corr, cmap=\"Reds\")"
   ]
  },
  {
   "cell_type": "markdown",
   "id": "6785660b",
   "metadata": {},
   "source": [
    "--aqui, verificamos que algumas colunas possuem correlação entre outras."
   ]
  },
  {
   "cell_type": "code",
   "execution_count": 12,
   "id": "60da007d",
   "metadata": {
    "scrolled": false
   },
   "outputs": [
    {
     "name": "stdout",
     "output_type": "stream",
     "text": [
      "número de colunas dropadas por correlação\n",
      "0.5 : 28\n",
      "0.6 : 28\n",
      "0.7 : 27\n",
      "0.8 : 25\n",
      "0.9 : 25\n"
     ]
    },
    {
     "name": "stderr",
     "output_type": "stream",
     "text": [
      "C:\\Users\\diego\\AppData\\Local\\Temp\\ipykernel_8732\\326783842.py:4: UserWarning: Boolean Series key will be reindexed to match DataFrame index.\n",
      "  print (round(i, 1),':', len(x_corr[(mask.sum()>0).sort_values(ascending = False)].index))\n"
     ]
    }
   ],
   "source": [
    "print ('número de colunas dropadas por correlação')\n",
    "for i in np.arange(0.5, 1, 0.1):\n",
    "    mask = (x_corr>i) & (x_corr < 1)\n",
    "    print (round(i, 1),':', len(x_corr[(mask.sum()>0).sort_values(ascending = False)].index))"
   ]
  },
  {
   "cell_type": "code",
   "execution_count": 13,
   "id": "50b1bfd7",
   "metadata": {},
   "outputs": [],
   "source": [
    "#obtendo colunas dropadas com correlação 0.5\n",
    "mask = (x_corr>0.5) & (x_corr < 1)\n",
    "index_high_corr = x_corr[mask].unstack().dropna().index\n",
    "cols_alta_correlacao = []\n",
    "for ind in index_high_corr:\n",
    "    if ind not in cols_alta_correlacao:\n",
    "        cols_alta_correlacao.append(ind[0])"
   ]
  },
  {
   "cell_type": "markdown",
   "id": "ec096741",
   "metadata": {},
   "source": [
    "#### dropando uma de cada duas colunas com alta correlação"
   ]
  },
  {
   "cell_type": "code",
   "execution_count": 14,
   "id": "4883680e",
   "metadata": {},
   "outputs": [],
   "source": [
    "x.drop(columns = cols_alta_correlacao, inplace=True)"
   ]
  },
  {
   "cell_type": "markdown",
   "id": "7a15a717",
   "metadata": {},
   "source": [
    "### 3. pré-processamento"
   ]
  },
  {
   "cell_type": "markdown",
   "id": "a8e56e95",
   "metadata": {},
   "source": [
    "#### criando dicionário com tipos de colunas"
   ]
  },
  {
   "cell_type": "code",
   "execution_count": 15,
   "id": "8c396045",
   "metadata": {
    "scrolled": true
   },
   "outputs": [
    {
     "name": "stdout",
     "output_type": "stream",
     "text": [
      "int64\n",
      "object\n",
      "float64\n"
     ]
    }
   ],
   "source": [
    "col_types = {}\n",
    "for col in x:\n",
    "    try:\n",
    "        col_types[str(x[col].dtype)].append(col)\n",
    "    except:\n",
    "        col_types.update({str(x[col].dtype):[col]})\n",
    "for col_type in col_types:\n",
    "    print (col_type)"
   ]
  },
  {
   "cell_type": "markdown",
   "id": "1917ffe2",
   "metadata": {},
   "source": [
    "#### removendo outliers em 3 desvios padrão"
   ]
  },
  {
   "cell_type": "code",
   "execution_count": 16,
   "id": "c71d5abf",
   "metadata": {},
   "outputs": [
    {
     "name": "stdout",
     "output_type": "stream",
     "text": [
      "anterior:\t 16733 \n",
      "após remoção:\t 9855\n"
     ]
    }
   ],
   "source": [
    "#criando dataframe apenas com variáveis numéricas\n",
    "x_num = x[col_types['int64']+col_types['float64']]\n",
    "\n",
    "#aplicando zscore e removendo outliers\n",
    "from scipy import stats\n",
    "x_num = x_num[(np.abs(stats.zscore(x_num)) < 3 ).all(axis=1)]\n",
    "\n",
    "#obtendo índice das linhas para aplicar no DF original\n",
    "index_non_outliers = x_num.index\n",
    "print ('anterior:\\t',x.shape[0],'\\napós remoção:\\t',x_num.shape[0])\n",
    "\n",
    "#aplicando no dataframe completo\n",
    "x = x.loc[index_non_outliers]\n",
    "y = y.loc[index_non_outliers]"
   ]
  },
  {
   "cell_type": "markdown",
   "id": "eb26e646",
   "metadata": {},
   "source": [
    "#### observando colunas categóricas"
   ]
  },
  {
   "cell_type": "markdown",
   "id": "83e706bd",
   "metadata": {},
   "source": [
    "- Verificando volumetria das colunas\n",
    "- Entendendo qual é a distribuição dos valores únicos em cada coluna\n",
    "- Dummerizando as colunas\n",
    "- Verificando resultado de dummerização"
   ]
  },
  {
   "cell_type": "code",
   "execution_count": 17,
   "id": "9961c20c",
   "metadata": {
    "scrolled": false
   },
   "outputs": [
    {
     "data": {
      "text/html": [
       "<div>\n",
       "<style scoped>\n",
       "    .dataframe tbody tr th:only-of-type {\n",
       "        vertical-align: middle;\n",
       "    }\n",
       "\n",
       "    .dataframe tbody tr th {\n",
       "        vertical-align: top;\n",
       "    }\n",
       "\n",
       "    .dataframe thead th {\n",
       "        text-align: right;\n",
       "    }\n",
       "</style>\n",
       "<table border=\"1\" class=\"dataframe\">\n",
       "  <thead>\n",
       "    <tr style=\"text-align: right;\">\n",
       "      <th></th>\n",
       "      <th>col</th>\n",
       "      <th>qtd_linhas</th>\n",
       "      <th>qtd_unicos</th>\n",
       "      <th>missing</th>\n",
       "    </tr>\n",
       "  </thead>\n",
       "  <tbody>\n",
       "    <tr>\n",
       "      <th>0</th>\n",
       "      <td>023c68873b</td>\n",
       "      <td>9855</td>\n",
       "      <td>619</td>\n",
       "      <td>0</td>\n",
       "    </tr>\n",
       "    <tr>\n",
       "      <th>1</th>\n",
       "      <td>361f93f4d1</td>\n",
       "      <td>9855</td>\n",
       "      <td>728</td>\n",
       "      <td>0</td>\n",
       "    </tr>\n",
       "    <tr>\n",
       "      <th>2</th>\n",
       "      <td>8d0606b150</td>\n",
       "      <td>9855</td>\n",
       "      <td>715</td>\n",
       "      <td>0</td>\n",
       "    </tr>\n",
       "    <tr>\n",
       "      <th>3</th>\n",
       "      <td>91145d159d</td>\n",
       "      <td>9855</td>\n",
       "      <td>588</td>\n",
       "      <td>0</td>\n",
       "    </tr>\n",
       "    <tr>\n",
       "      <th>4</th>\n",
       "      <td>b835dfe10f</td>\n",
       "      <td>9855</td>\n",
       "      <td>137</td>\n",
       "      <td>0</td>\n",
       "    </tr>\n",
       "    <tr>\n",
       "      <th>5</th>\n",
       "      <td>e16e640635</td>\n",
       "      <td>9855</td>\n",
       "      <td>171</td>\n",
       "      <td>0</td>\n",
       "    </tr>\n",
       "    <tr>\n",
       "      <th>6</th>\n",
       "      <td>f1f0984934</td>\n",
       "      <td>9855</td>\n",
       "      <td>322</td>\n",
       "      <td>0</td>\n",
       "    </tr>\n",
       "  </tbody>\n",
       "</table>\n",
       "</div>"
      ],
      "text/plain": [
       "          col  qtd_linhas  qtd_unicos  missing\n",
       "0  023c68873b        9855         619        0\n",
       "1  361f93f4d1        9855         728        0\n",
       "2  8d0606b150        9855         715        0\n",
       "3  91145d159d        9855         588        0\n",
       "4  b835dfe10f        9855         137        0\n",
       "5  e16e640635        9855         171        0\n",
       "6  f1f0984934        9855         322        0"
      ]
     },
     "execution_count": 17,
     "metadata": {},
     "output_type": "execute_result"
    }
   ],
   "source": [
    "# verificando colunas do tipo objeto (categóricas/string)\n",
    "lst = []\n",
    "for col in col_types['object']:\n",
    "    col_len = x[col].shape[0]\n",
    "    col_unique_len = pd.unique(x[col]).shape[0]\n",
    "    col_nan = pd.isnull(x[col]).sum()\n",
    "    lst.append([col, col_len, col_unique_len, col_nan]) \n",
    "obj_df = pd.DataFrame(lst, columns = ['col', 'qtd_linhas', 'qtd_unicos', 'missing'])\n",
    "obj_df"
   ]
  },
  {
   "cell_type": "markdown",
   "id": "ef6bce16",
   "metadata": {},
   "source": [
    "#### aqui verifica-se que existem dados repetidos nas colunas, que podem ser úteis para realizar dummerização"
   ]
  },
  {
   "cell_type": "code",
   "execution_count": 18,
   "id": "afe2dbed",
   "metadata": {},
   "outputs": [
    {
     "data": {
      "text/html": [
       "<div>\n",
       "<style scoped>\n",
       "    .dataframe tbody tr th:only-of-type {\n",
       "        vertical-align: middle;\n",
       "    }\n",
       "\n",
       "    .dataframe tbody tr th {\n",
       "        vertical-align: top;\n",
       "    }\n",
       "\n",
       "    .dataframe thead th {\n",
       "        text-align: right;\n",
       "    }\n",
       "</style>\n",
       "<table border=\"1\" class=\"dataframe\">\n",
       "  <thead>\n",
       "    <tr style=\"text-align: right;\">\n",
       "      <th></th>\n",
       "      <th>Variable</th>\n",
       "      <th>Appearances</th>\n",
       "    </tr>\n",
       "  </thead>\n",
       "  <tbody>\n",
       "    <tr>\n",
       "      <th>2687</th>\n",
       "      <td>b835dfe10f</td>\n",
       "      <td>90</td>\n",
       "    </tr>\n",
       "    <tr>\n",
       "      <th>2696</th>\n",
       "      <td>b835dfe10f</td>\n",
       "      <td>90</td>\n",
       "    </tr>\n",
       "    <tr>\n",
       "      <th>2655</th>\n",
       "      <td>b835dfe10f</td>\n",
       "      <td>88</td>\n",
       "    </tr>\n",
       "    <tr>\n",
       "      <th>2751</th>\n",
       "      <td>b835dfe10f</td>\n",
       "      <td>87</td>\n",
       "    </tr>\n",
       "    <tr>\n",
       "      <th>2682</th>\n",
       "      <td>b835dfe10f</td>\n",
       "      <td>87</td>\n",
       "    </tr>\n",
       "    <tr>\n",
       "      <th>...</th>\n",
       "      <td>...</td>\n",
       "      <td>...</td>\n",
       "    </tr>\n",
       "    <tr>\n",
       "      <th>2056</th>\n",
       "      <td>8d0606b150</td>\n",
       "      <td>5</td>\n",
       "    </tr>\n",
       "    <tr>\n",
       "      <th>775</th>\n",
       "      <td>361f93f4d1</td>\n",
       "      <td>5</td>\n",
       "    </tr>\n",
       "    <tr>\n",
       "      <th>409</th>\n",
       "      <td>023c68873b</td>\n",
       "      <td>5</td>\n",
       "    </tr>\n",
       "    <tr>\n",
       "      <th>582</th>\n",
       "      <td>023c68873b</td>\n",
       "      <td>5</td>\n",
       "    </tr>\n",
       "    <tr>\n",
       "      <th>1250</th>\n",
       "      <td>361f93f4d1</td>\n",
       "      <td>4</td>\n",
       "    </tr>\n",
       "  </tbody>\n",
       "</table>\n",
       "<p>3280 rows × 2 columns</p>\n",
       "</div>"
      ],
      "text/plain": [
       "        Variable  Appearances\n",
       "2687  b835dfe10f           90\n",
       "2696  b835dfe10f           90\n",
       "2655  b835dfe10f           88\n",
       "2751  b835dfe10f           87\n",
       "2682  b835dfe10f           87\n",
       "...          ...          ...\n",
       "2056  8d0606b150            5\n",
       "775   361f93f4d1            5\n",
       "409   023c68873b            5\n",
       "582   023c68873b            5\n",
       "1250  361f93f4d1            4\n",
       "\n",
       "[3280 rows x 2 columns]"
      ]
     },
     "execution_count": 18,
     "metadata": {},
     "output_type": "execute_result"
    }
   ],
   "source": [
    "# verificamos a quantidade de aparições por string única\n",
    "valores_unicos = []\n",
    "for col in col_types['object']:\n",
    "    uniques = pd.unique(x[col])\n",
    "    for unique in uniques:\n",
    "        valores_unicos.append([col, (x[col] == unique).sum()])\n",
    "dfValoresUnicos = pd.DataFrame(valores_unicos, columns = ['Variable', 'Appearances'])\\\n",
    "                    .sort_values(by='Appearances', axis=0, ascending = False)\n",
    "dfValoresUnicos"
   ]
  },
  {
   "cell_type": "markdown",
   "id": "dbaaa81b",
   "metadata": {},
   "source": [
    "### dummerizando e verificando variáveis de importância\n",
    "- considerando o cenário acima, dummerizamos todas as colunas de tipo 'object'.\n"
   ]
  },
  {
   "cell_type": "code",
   "execution_count": 19,
   "id": "81a58d81",
   "metadata": {},
   "outputs": [],
   "source": [
    "# dummerizando\n",
    "x_2 = pd.get_dummies(data=x)"
   ]
  },
  {
   "cell_type": "code",
   "execution_count": 20,
   "id": "60f60da6",
   "metadata": {
    "scrolled": true
   },
   "outputs": [
    {
     "name": "stdout",
     "output_type": "stream",
     "text": [
      "Treino anterior: 78 colunas\n",
      "Após dummerizar 3351 colunas.\n"
     ]
    }
   ],
   "source": [
    "print ('Treino anterior:',x.shape[1],'colunas\\nApós dummerizar', x_2.shape[1],'colunas.')     "
   ]
  },
  {
   "cell_type": "markdown",
   "id": "308592f5",
   "metadata": {},
   "source": [
    "#### por conta da quantidade muito grande de colunas geradas, seguiremos apenas com as colunas numéricas"
   ]
  },
  {
   "cell_type": "code",
   "execution_count": 21,
   "id": "fcd3a0b3",
   "metadata": {},
   "outputs": [
    {
     "name": "stdout",
     "output_type": "stream",
     "text": [
      "Quantidade de colunas no dataset final: 71\n"
     ]
    }
   ],
   "source": [
    "x_2 = x.drop(col_types['object'], axis=1)\n",
    "print('Quantidade de colunas no dataframe final:',x_2.shape[1])"
   ]
  },
  {
   "cell_type": "markdown",
   "id": "d2a86e08",
   "metadata": {},
   "source": [
    "#### realizando z-score normalization em todas as variáveis"
   ]
  },
  {
   "cell_type": "code",
   "execution_count": 22,
   "id": "ba0ab666",
   "metadata": {},
   "outputs": [],
   "source": [
    "from sklearn.preprocessing import StandardScaler"
   ]
  },
  {
   "cell_type": "code",
   "execution_count": 23,
   "id": "756f1f33",
   "metadata": {
    "scrolled": true
   },
   "outputs": [
    {
     "data": {
      "text/html": [
       "<div>\n",
       "<style scoped>\n",
       "    .dataframe tbody tr th:only-of-type {\n",
       "        vertical-align: middle;\n",
       "    }\n",
       "\n",
       "    .dataframe tbody tr th {\n",
       "        vertical-align: top;\n",
       "    }\n",
       "\n",
       "    .dataframe thead th {\n",
       "        text-align: right;\n",
       "    }\n",
       "</style>\n",
       "<table border=\"1\" class=\"dataframe\">\n",
       "  <thead>\n",
       "    <tr style=\"text-align: right;\">\n",
       "      <th></th>\n",
       "      <th>016399044a</th>\n",
       "      <th>0342faceb5</th>\n",
       "      <th>04e7268385</th>\n",
       "      <th>06888ceac9</th>\n",
       "      <th>087235d61e</th>\n",
       "      <th>0b846350ef</th>\n",
       "      <th>0e2ab0831c</th>\n",
       "      <th>12eda2d982</th>\n",
       "      <th>136c1727c3</th>\n",
       "      <th>173b6590ae</th>\n",
       "      <th>...</th>\n",
       "      <th>e7ee22effb</th>\n",
       "      <th>e86a2190c1</th>\n",
       "      <th>ea0f4a32e3</th>\n",
       "      <th>ee2ac696ff</th>\n",
       "      <th>f013b60e50</th>\n",
       "      <th>f0a0febd35</th>\n",
       "      <th>fbf66c8021</th>\n",
       "      <th>fdf8628ca7</th>\n",
       "      <th>fe0318e273</th>\n",
       "      <th>ffd1cdcfc1</th>\n",
       "    </tr>\n",
       "  </thead>\n",
       "  <tbody>\n",
       "    <tr>\n",
       "      <th>0</th>\n",
       "      <td>-0.921633</td>\n",
       "      <td>0.218741</td>\n",
       "      <td>-2.123542</td>\n",
       "      <td>0.403184</td>\n",
       "      <td>-0.465997</td>\n",
       "      <td>0.062908</td>\n",
       "      <td>0.013875</td>\n",
       "      <td>0.191677</td>\n",
       "      <td>-0.967998</td>\n",
       "      <td>0.125898</td>\n",
       "      <td>...</td>\n",
       "      <td>0.619134</td>\n",
       "      <td>0.927377</td>\n",
       "      <td>0.354222</td>\n",
       "      <td>0.191677</td>\n",
       "      <td>-0.863681</td>\n",
       "      <td>-0.636843</td>\n",
       "      <td>0.830311</td>\n",
       "      <td>1.219458</td>\n",
       "      <td>0.842687</td>\n",
       "      <td>-1.185216</td>\n",
       "    </tr>\n",
       "    <tr>\n",
       "      <th>1</th>\n",
       "      <td>-0.604878</td>\n",
       "      <td>-0.284138</td>\n",
       "      <td>0.486177</td>\n",
       "      <td>0.403184</td>\n",
       "      <td>0.605305</td>\n",
       "      <td>0.044062</td>\n",
       "      <td>1.721347</td>\n",
       "      <td>0.749072</td>\n",
       "      <td>-0.451210</td>\n",
       "      <td>-1.920550</td>\n",
       "      <td>...</td>\n",
       "      <td>-0.956485</td>\n",
       "      <td>1.337418</td>\n",
       "      <td>0.524191</td>\n",
       "      <td>0.749072</td>\n",
       "      <td>0.981302</td>\n",
       "      <td>1.113549</td>\n",
       "      <td>1.786337</td>\n",
       "      <td>-0.797238</td>\n",
       "      <td>0.233503</td>\n",
       "      <td>0.012666</td>\n",
       "    </tr>\n",
       "    <tr>\n",
       "      <th>2</th>\n",
       "      <td>-2.391375</td>\n",
       "      <td>1.328035</td>\n",
       "      <td>-2.096693</td>\n",
       "      <td>0.403184</td>\n",
       "      <td>1.125652</td>\n",
       "      <td>0.075150</td>\n",
       "      <td>0.193155</td>\n",
       "      <td>1.184730</td>\n",
       "      <td>-0.110929</td>\n",
       "      <td>-2.565915</td>\n",
       "      <td>...</td>\n",
       "      <td>0.234837</td>\n",
       "      <td>0.131061</td>\n",
       "      <td>0.658662</td>\n",
       "      <td>1.184730</td>\n",
       "      <td>-1.021667</td>\n",
       "      <td>-1.370759</td>\n",
       "      <td>-0.333430</td>\n",
       "      <td>1.017789</td>\n",
       "      <td>-0.630161</td>\n",
       "      <td>0.950386</td>\n",
       "    </tr>\n",
       "    <tr>\n",
       "      <th>3</th>\n",
       "      <td>-1.149696</td>\n",
       "      <td>-0.210185</td>\n",
       "      <td>-1.291224</td>\n",
       "      <td>0.403184</td>\n",
       "      <td>-0.833300</td>\n",
       "      <td>0.039981</td>\n",
       "      <td>0.075426</td>\n",
       "      <td>-1.956922</td>\n",
       "      <td>-0.364602</td>\n",
       "      <td>-0.773333</td>\n",
       "      <td>...</td>\n",
       "      <td>1.118721</td>\n",
       "      <td>1.123790</td>\n",
       "      <td>-0.598034</td>\n",
       "      <td>-1.956922</td>\n",
       "      <td>0.163180</td>\n",
       "      <td>-0.247018</td>\n",
       "      <td>-2.631288</td>\n",
       "      <td>-0.225841</td>\n",
       "      <td>-1.678271</td>\n",
       "      <td>1.481682</td>\n",
       "    </tr>\n",
       "    <tr>\n",
       "      <th>4</th>\n",
       "      <td>0.560780</td>\n",
       "      <td>0.026464</td>\n",
       "      <td>-0.743505</td>\n",
       "      <td>0.403184</td>\n",
       "      <td>0.880783</td>\n",
       "      <td>-0.007650</td>\n",
       "      <td>0.548428</td>\n",
       "      <td>-0.127450</td>\n",
       "      <td>-0.804963</td>\n",
       "      <td>0.586669</td>\n",
       "      <td>...</td>\n",
       "      <td>-0.418469</td>\n",
       "      <td>-0.604687</td>\n",
       "      <td>0.553942</td>\n",
       "      <td>-0.127450</td>\n",
       "      <td>0.573149</td>\n",
       "      <td>-0.061912</td>\n",
       "      <td>-0.689868</td>\n",
       "      <td>-0.158617</td>\n",
       "      <td>-0.128159</td>\n",
       "      <td>-0.090578</td>\n",
       "    </tr>\n",
       "    <tr>\n",
       "      <th>...</th>\n",
       "      <td>...</td>\n",
       "      <td>...</td>\n",
       "      <td>...</td>\n",
       "      <td>...</td>\n",
       "      <td>...</td>\n",
       "      <td>...</td>\n",
       "      <td>...</td>\n",
       "      <td>...</td>\n",
       "      <td>...</td>\n",
       "      <td>...</td>\n",
       "      <td>...</td>\n",
       "      <td>...</td>\n",
       "      <td>...</td>\n",
       "      <td>...</td>\n",
       "      <td>...</td>\n",
       "      <td>...</td>\n",
       "      <td>...</td>\n",
       "      <td>...</td>\n",
       "      <td>...</td>\n",
       "      <td>...</td>\n",
       "      <td>...</td>\n",
       "    </tr>\n",
       "    <tr>\n",
       "      <th>9850</th>\n",
       "      <td>1.143609</td>\n",
       "      <td>-0.727855</td>\n",
       "      <td>0.555985</td>\n",
       "      <td>0.403184</td>\n",
       "      <td>1.003218</td>\n",
       "      <td>-0.026519</td>\n",
       "      <td>-0.006528</td>\n",
       "      <td>-0.837386</td>\n",
       "      <td>0.316554</td>\n",
       "      <td>-0.945335</td>\n",
       "      <td>...</td>\n",
       "      <td>2.886489</td>\n",
       "      <td>0.418919</td>\n",
       "      <td>-0.228791</td>\n",
       "      <td>-0.837386</td>\n",
       "      <td>-1.054863</td>\n",
       "      <td>-1.552070</td>\n",
       "      <td>0.356734</td>\n",
       "      <td>0.278333</td>\n",
       "      <td>-1.642117</td>\n",
       "      <td>-0.646597</td>\n",
       "    </tr>\n",
       "    <tr>\n",
       "      <th>9851</th>\n",
       "      <td>0.421408</td>\n",
       "      <td>-0.165814</td>\n",
       "      <td>0.555985</td>\n",
       "      <td>0.403184</td>\n",
       "      <td>-0.129302</td>\n",
       "      <td>-0.044370</td>\n",
       "      <td>-0.387269</td>\n",
       "      <td>-1.115593</td>\n",
       "      <td>-0.750910</td>\n",
       "      <td>1.301965</td>\n",
       "      <td>...</td>\n",
       "      <td>-0.841196</td>\n",
       "      <td>-1.383996</td>\n",
       "      <td>1.073748</td>\n",
       "      <td>-1.115593</td>\n",
       "      <td>-0.670674</td>\n",
       "      <td>1.318359</td>\n",
       "      <td>0.779435</td>\n",
       "      <td>-0.360287</td>\n",
       "      <td>-0.262430</td>\n",
       "      <td>-0.419279</td>\n",
       "    </tr>\n",
       "    <tr>\n",
       "      <th>9852</th>\n",
       "      <td>0.586120</td>\n",
       "      <td>0.913899</td>\n",
       "      <td>-0.254854</td>\n",
       "      <td>-2.480256</td>\n",
       "      <td>0.054350</td>\n",
       "      <td>-0.721780</td>\n",
       "      <td>-0.000276</td>\n",
       "      <td>1.116629</td>\n",
       "      <td>0.286199</td>\n",
       "      <td>-0.875079</td>\n",
       "      <td>...</td>\n",
       "      <td>-0.764337</td>\n",
       "      <td>1.281450</td>\n",
       "      <td>-0.654744</td>\n",
       "      <td>1.116629</td>\n",
       "      <td>0.808636</td>\n",
       "      <td>2.001184</td>\n",
       "      <td>-0.927262</td>\n",
       "      <td>-2.343372</td>\n",
       "      <td>0.012334</td>\n",
       "      <td>-0.395730</td>\n",
       "    </tr>\n",
       "    <tr>\n",
       "      <th>9853</th>\n",
       "      <td>0.383397</td>\n",
       "      <td>-0.432044</td>\n",
       "      <td>1.339974</td>\n",
       "      <td>0.403184</td>\n",
       "      <td>-0.863909</td>\n",
       "      <td>-0.079783</td>\n",
       "      <td>-0.941087</td>\n",
       "      <td>1.478860</td>\n",
       "      <td>3.109828</td>\n",
       "      <td>0.054629</td>\n",
       "      <td>...</td>\n",
       "      <td>-0.610618</td>\n",
       "      <td>0.362811</td>\n",
       "      <td>0.274097</td>\n",
       "      <td>1.478860</td>\n",
       "      <td>-1.056356</td>\n",
       "      <td>-1.021099</td>\n",
       "      <td>0.306316</td>\n",
       "      <td>-0.629180</td>\n",
       "      <td>0.936521</td>\n",
       "      <td>-1.191823</td>\n",
       "    </tr>\n",
       "    <tr>\n",
       "      <th>9854</th>\n",
       "      <td>0.003291</td>\n",
       "      <td>-0.195395</td>\n",
       "      <td>-0.158198</td>\n",
       "      <td>0.403184</td>\n",
       "      <td>-0.129302</td>\n",
       "      <td>-0.022829</td>\n",
       "      <td>-0.014119</td>\n",
       "      <td>-0.885384</td>\n",
       "      <td>-0.513411</td>\n",
       "      <td>0.604260</td>\n",
       "      <td>...</td>\n",
       "      <td>-0.687477</td>\n",
       "      <td>-0.084589</td>\n",
       "      <td>-1.485043</td>\n",
       "      <td>-0.885384</td>\n",
       "      <td>-0.932831</td>\n",
       "      <td>0.847565</td>\n",
       "      <td>-0.759560</td>\n",
       "      <td>0.513615</td>\n",
       "      <td>-0.284092</td>\n",
       "      <td>-1.206403</td>\n",
       "    </tr>\n",
       "  </tbody>\n",
       "</table>\n",
       "<p>9855 rows × 71 columns</p>\n",
       "</div>"
      ],
      "text/plain": [
       "      016399044a  0342faceb5  04e7268385  06888ceac9  087235d61e  0b846350ef  \\\n",
       "0      -0.921633    0.218741   -2.123542    0.403184   -0.465997    0.062908   \n",
       "1      -0.604878   -0.284138    0.486177    0.403184    0.605305    0.044062   \n",
       "2      -2.391375    1.328035   -2.096693    0.403184    1.125652    0.075150   \n",
       "3      -1.149696   -0.210185   -1.291224    0.403184   -0.833300    0.039981   \n",
       "4       0.560780    0.026464   -0.743505    0.403184    0.880783   -0.007650   \n",
       "...          ...         ...         ...         ...         ...         ...   \n",
       "9850    1.143609   -0.727855    0.555985    0.403184    1.003218   -0.026519   \n",
       "9851    0.421408   -0.165814    0.555985    0.403184   -0.129302   -0.044370   \n",
       "9852    0.586120    0.913899   -0.254854   -2.480256    0.054350   -0.721780   \n",
       "9853    0.383397   -0.432044    1.339974    0.403184   -0.863909   -0.079783   \n",
       "9854    0.003291   -0.195395   -0.158198    0.403184   -0.129302   -0.022829   \n",
       "\n",
       "      0e2ab0831c  12eda2d982  136c1727c3  173b6590ae  ...  e7ee22effb  \\\n",
       "0       0.013875    0.191677   -0.967998    0.125898  ...    0.619134   \n",
       "1       1.721347    0.749072   -0.451210   -1.920550  ...   -0.956485   \n",
       "2       0.193155    1.184730   -0.110929   -2.565915  ...    0.234837   \n",
       "3       0.075426   -1.956922   -0.364602   -0.773333  ...    1.118721   \n",
       "4       0.548428   -0.127450   -0.804963    0.586669  ...   -0.418469   \n",
       "...          ...         ...         ...         ...  ...         ...   \n",
       "9850   -0.006528   -0.837386    0.316554   -0.945335  ...    2.886489   \n",
       "9851   -0.387269   -1.115593   -0.750910    1.301965  ...   -0.841196   \n",
       "9852   -0.000276    1.116629    0.286199   -0.875079  ...   -0.764337   \n",
       "9853   -0.941087    1.478860    3.109828    0.054629  ...   -0.610618   \n",
       "9854   -0.014119   -0.885384   -0.513411    0.604260  ...   -0.687477   \n",
       "\n",
       "      e86a2190c1  ea0f4a32e3  ee2ac696ff  f013b60e50  f0a0febd35  fbf66c8021  \\\n",
       "0       0.927377    0.354222    0.191677   -0.863681   -0.636843    0.830311   \n",
       "1       1.337418    0.524191    0.749072    0.981302    1.113549    1.786337   \n",
       "2       0.131061    0.658662    1.184730   -1.021667   -1.370759   -0.333430   \n",
       "3       1.123790   -0.598034   -1.956922    0.163180   -0.247018   -2.631288   \n",
       "4      -0.604687    0.553942   -0.127450    0.573149   -0.061912   -0.689868   \n",
       "...          ...         ...         ...         ...         ...         ...   \n",
       "9850    0.418919   -0.228791   -0.837386   -1.054863   -1.552070    0.356734   \n",
       "9851   -1.383996    1.073748   -1.115593   -0.670674    1.318359    0.779435   \n",
       "9852    1.281450   -0.654744    1.116629    0.808636    2.001184   -0.927262   \n",
       "9853    0.362811    0.274097    1.478860   -1.056356   -1.021099    0.306316   \n",
       "9854   -0.084589   -1.485043   -0.885384   -0.932831    0.847565   -0.759560   \n",
       "\n",
       "      fdf8628ca7  fe0318e273  ffd1cdcfc1  \n",
       "0       1.219458    0.842687   -1.185216  \n",
       "1      -0.797238    0.233503    0.012666  \n",
       "2       1.017789   -0.630161    0.950386  \n",
       "3      -0.225841   -1.678271    1.481682  \n",
       "4      -0.158617   -0.128159   -0.090578  \n",
       "...          ...         ...         ...  \n",
       "9850    0.278333   -1.642117   -0.646597  \n",
       "9851   -0.360287   -0.262430   -0.419279  \n",
       "9852   -2.343372    0.012334   -0.395730  \n",
       "9853   -0.629180    0.936521   -1.191823  \n",
       "9854    0.513615   -0.284092   -1.206403  \n",
       "\n",
       "[9855 rows x 71 columns]"
      ]
     },
     "execution_count": 23,
     "metadata": {},
     "output_type": "execute_result"
    }
   ],
   "source": [
    "sc = StandardScaler()\n",
    "x_z = pd.DataFrame(sc.fit_transform(X=x_2))\n",
    "x_z.columns = x_2.columns\n",
    "x_z"
   ]
  },
  {
   "cell_type": "markdown",
   "id": "9c7baf7e",
   "metadata": {},
   "source": [
    "### 4.Selecionando variáveis mais importantes\n",
    "- Realizando seleção de features com RandomForest"
   ]
  },
  {
   "cell_type": "code",
   "execution_count": 24,
   "id": "88d210cc",
   "metadata": {},
   "outputs": [],
   "source": [
    "# imports\n",
    "from sklearn.ensemble import RandomForestRegressor\n",
    "from sklearn.inspection import permutation_importance"
   ]
  },
  {
   "cell_type": "code",
   "execution_count": 25,
   "id": "fab5ba50",
   "metadata": {},
   "outputs": [
    {
     "data": {
      "text/plain": [
       "RandomForestRegressor()"
      ]
     },
     "execution_count": 25,
     "metadata": {},
     "output_type": "execute_result"
    }
   ],
   "source": [
    "rf = RandomForestRegressor(n_estimators = 100)\n",
    "rf.fit(x_z, y)"
   ]
  },
  {
   "cell_type": "markdown",
   "id": "cee45622",
   "metadata": {},
   "source": [
    "#### demonstrando colunas com feature importances"
   ]
  },
  {
   "cell_type": "code",
   "execution_count": 26,
   "id": "ed51c110",
   "metadata": {},
   "outputs": [
    {
     "data": {
      "text/plain": [
       "(9855, 71)"
      ]
     },
     "execution_count": 26,
     "metadata": {},
     "output_type": "execute_result"
    }
   ],
   "source": [
    "rf.feature_importances_\n",
    "x_z.shape"
   ]
  },
  {
   "cell_type": "code",
   "execution_count": 27,
   "id": "4a03d0bc",
   "metadata": {
    "scrolled": true
   },
   "outputs": [
    {
     "data": {
      "text/html": [
       "<div>\n",
       "<style scoped>\n",
       "    .dataframe tbody tr th:only-of-type {\n",
       "        vertical-align: middle;\n",
       "    }\n",
       "\n",
       "    .dataframe tbody tr th {\n",
       "        vertical-align: top;\n",
       "    }\n",
       "\n",
       "    .dataframe thead th {\n",
       "        text-align: right;\n",
       "    }\n",
       "</style>\n",
       "<table border=\"1\" class=\"dataframe\">\n",
       "  <thead>\n",
       "    <tr style=\"text-align: right;\">\n",
       "      <th></th>\n",
       "      <th>feature_importance</th>\n",
       "    </tr>\n",
       "    <tr>\n",
       "      <th>col</th>\n",
       "      <th></th>\n",
       "    </tr>\n",
       "  </thead>\n",
       "  <tbody>\n",
       "    <tr>\n",
       "      <th>e86a2190c1</th>\n",
       "      <td>0.048244</td>\n",
       "    </tr>\n",
       "    <tr>\n",
       "      <th>aee1e4fc85</th>\n",
       "      <td>0.046044</td>\n",
       "    </tr>\n",
       "    <tr>\n",
       "      <th>6db53d265a</th>\n",
       "      <td>0.037055</td>\n",
       "    </tr>\n",
       "    <tr>\n",
       "      <th>2d7fe4693a</th>\n",
       "      <td>0.034805</td>\n",
       "    </tr>\n",
       "    <tr>\n",
       "      <th>ea0f4a32e3</th>\n",
       "      <td>0.032444</td>\n",
       "    </tr>\n",
       "    <tr>\n",
       "      <th>...</th>\n",
       "      <td>...</td>\n",
       "    </tr>\n",
       "    <tr>\n",
       "      <th>63bcf89b1d</th>\n",
       "      <td>0.006141</td>\n",
       "    </tr>\n",
       "    <tr>\n",
       "      <th>55cf3f7627</th>\n",
       "      <td>0.004979</td>\n",
       "    </tr>\n",
       "    <tr>\n",
       "      <th>7cb7913148</th>\n",
       "      <td>0.004269</td>\n",
       "    </tr>\n",
       "    <tr>\n",
       "      <th>384bec5dd1</th>\n",
       "      <td>0.00046</td>\n",
       "    </tr>\n",
       "    <tr>\n",
       "      <th>9a575e82a4</th>\n",
       "      <td>0.0</td>\n",
       "    </tr>\n",
       "  </tbody>\n",
       "</table>\n",
       "<p>71 rows × 1 columns</p>\n",
       "</div>"
      ],
      "text/plain": [
       "           feature_importance\n",
       "col                          \n",
       "e86a2190c1           0.048244\n",
       "aee1e4fc85           0.046044\n",
       "6db53d265a           0.037055\n",
       "2d7fe4693a           0.034805\n",
       "ea0f4a32e3           0.032444\n",
       "...                       ...\n",
       "63bcf89b1d           0.006141\n",
       "55cf3f7627           0.004979\n",
       "7cb7913148           0.004269\n",
       "384bec5dd1            0.00046\n",
       "9a575e82a4                0.0\n",
       "\n",
       "[71 rows x 1 columns]"
      ]
     },
     "execution_count": 27,
     "metadata": {},
     "output_type": "execute_result"
    }
   ],
   "source": [
    "df_fi = [x_z.columns,rf.feature_importances_]\n",
    "df_fi = pd.DataFrame(df_fi)\\\n",
    "                    .transpose()\n",
    "df_fi.columns = ['col', 'feature_importance']\n",
    "df_fi.set_index('col', inplace=True)\n",
    "df_fi.sort_values(by=['feature_importance'], axis=0, ascending = False, inplace=True)\n",
    "lst_col_importance = df_fi.index.values\n",
    "df_fi"
   ]
  },
  {
   "cell_type": "code",
   "execution_count": 59,
   "id": "ddeca5d7",
   "metadata": {},
   "outputs": [
    {
     "data": {
      "text/plain": [
       "[<matplotlib.lines.Line2D at 0x268374789d0>]"
      ]
     },
     "execution_count": 59,
     "metadata": {},
     "output_type": "execute_result"
    },
    {
     "data": {
      "image/png": "[encoded data removed]",
      "text/plain": [
       "<Figure size 1440x1440 with 1 Axes>"
      ]
     },
     "metadata": {
      "needs_background": "light"
     },
     "output_type": "display_data"
    }
   ],
   "source": [
    "#plottando importâncias\n",
    "df_fi['var_qtd'] = np.arange(len(df_fi))\n",
    "plt.title('Feature Importance por Quantidade de Variáveis')\n",
    "plt.plot(df_fi['var_qtd'], df_fi['feature_importance'])"
   ]
  },
  {
   "cell_type": "markdown",
   "id": "d8b512fe",
   "metadata": {},
   "source": [
    "### 5. treino e teste de modelo linear e decisionTree\n",
    "- adaptando dataframe de teste com as transformações realizadas no treino\n",
    "- realizando fit dos modelos com um número crescente de variáveis\n",
    "- testando e obtendo melhor modelo r a melhor quantidade de variáveis"
   ]
  },
  {
   "cell_type": "code",
   "execution_count": 29,
   "id": "c5bc4b55",
   "metadata": {},
   "outputs": [
    {
     "data": {
      "text/plain": [
       "(8243, 71)"
      ]
     },
     "execution_count": 29,
     "metadata": {},
     "output_type": "execute_result"
    }
   ],
   "source": [
    "#adaptando dataframe de teste\n",
    "x_t = x_t.drop(cols_alta_correlacao, axis=1) #alta correlação\n",
    "x_t = x_t.drop(col_types['object'], axis=1) #tipo object\n",
    "x_t_z = pd.DataFrame(sc.fit_transform(X=x_t)) #normalizando em z\n",
    "x_t_z.columns = x_t.columns #apropriando nomes de colunas\n",
    "x_t_z.shape\n",
    "\n"
   ]
  },
  {
   "cell_type": "code",
   "execution_count": 30,
   "id": "2a5d24b2",
   "metadata": {},
   "outputs": [],
   "source": [
    "from sklearn.linear_model import LinearRegression\n",
    "lr = LinearRegression()\n",
    "from sklearn.tree import DecisionTreeRegressor\n",
    "dt = DecisionTreeRegressor()\n",
    "from sklearn.metrics import r2_score"
   ]
  },
  {
   "cell_type": "code",
   "execution_count": 34,
   "id": "f49dc73f",
   "metadata": {
    "scrolled": true
   },
   "outputs": [],
   "source": [
    "ml_df = []\n",
    "for i in range (1, len(lst_col_importance)+1):\n",
    "    lr.fit(x_z[lst_col_importance[0:i]], y)\n",
    "    y_pred_lr = lr.predict(x_t_z[lst_col_importance[0:i]])\n",
    "    dt.fit(x_z[lst_col_importance[0:i]],y)\n",
    "    y_pred_dt = dt.predict(x_t_z[lst_col_importance[0:i]])\n",
    "    ml_df.append([i, r2_score(y_t, y_pred_lr), r2_score(y_t, y_pred_dt)])\n",
    "ml_df = pd.DataFrame(ml_df, columns = ['qtd_features', 'r2_Linear', 'r2_DecisionTree']).set_index('qtd_features')"
   ]
  },
  {
   "cell_type": "code",
   "execution_count": 37,
   "id": "c43a4d22",
   "metadata": {
    "scrolled": true
   },
   "outputs": [
    {
     "data": {
      "text/html": [
       "<div>\n",
       "<style scoped>\n",
       "    .dataframe tbody tr th:only-of-type {\n",
       "        vertical-align: middle;\n",
       "    }\n",
       "\n",
       "    .dataframe tbody tr th {\n",
       "        vertical-align: top;\n",
       "    }\n",
       "\n",
       "    .dataframe thead th {\n",
       "        text-align: right;\n",
       "    }\n",
       "</style>\n",
       "<table border=\"1\" class=\"dataframe\">\n",
       "  <thead>\n",
       "    <tr style=\"text-align: right;\">\n",
       "      <th></th>\n",
       "      <th>r2_Linear</th>\n",
       "      <th>r2_DecisionTree</th>\n",
       "    </tr>\n",
       "    <tr>\n",
       "      <th>qtd_features</th>\n",
       "      <th></th>\n",
       "      <th></th>\n",
       "    </tr>\n",
       "  </thead>\n",
       "  <tbody>\n",
       "    <tr>\n",
       "      <th>40</th>\n",
       "      <td>1.332789e-01</td>\n",
       "      <td>-0.502009</td>\n",
       "    </tr>\n",
       "    <tr>\n",
       "      <th>43</th>\n",
       "      <td>1.332620e-01</td>\n",
       "      <td>-0.466037</td>\n",
       "    </tr>\n",
       "    <tr>\n",
       "      <th>41</th>\n",
       "      <td>1.332293e-01</td>\n",
       "      <td>-0.504743</td>\n",
       "    </tr>\n",
       "    <tr>\n",
       "      <th>42</th>\n",
       "      <td>1.332289e-01</td>\n",
       "      <td>-0.528895</td>\n",
       "    </tr>\n",
       "    <tr>\n",
       "      <th>45</th>\n",
       "      <td>1.330887e-01</td>\n",
       "      <td>-0.513007</td>\n",
       "    </tr>\n",
       "    <tr>\n",
       "      <th>...</th>\n",
       "      <td>...</td>\n",
       "      <td>...</td>\n",
       "    </tr>\n",
       "    <tr>\n",
       "      <th>67</th>\n",
       "      <td>-2.802553e+12</td>\n",
       "      <td>-0.632483</td>\n",
       "    </tr>\n",
       "    <tr>\n",
       "      <th>69</th>\n",
       "      <td>-3.560552e+15</td>\n",
       "      <td>-0.650011</td>\n",
       "    </tr>\n",
       "    <tr>\n",
       "      <th>71</th>\n",
       "      <td>-3.563011e+15</td>\n",
       "      <td>-0.568372</td>\n",
       "    </tr>\n",
       "    <tr>\n",
       "      <th>70</th>\n",
       "      <td>-3.563015e+15</td>\n",
       "      <td>-0.631963</td>\n",
       "    </tr>\n",
       "    <tr>\n",
       "      <th>68</th>\n",
       "      <td>-3.574749e+15</td>\n",
       "      <td>-0.666625</td>\n",
       "    </tr>\n",
       "  </tbody>\n",
       "</table>\n",
       "<p>71 rows × 2 columns</p>\n",
       "</div>"
      ],
      "text/plain": [
       "                 r2_Linear  r2_DecisionTree\n",
       "qtd_features                               \n",
       "40            1.332789e-01        -0.502009\n",
       "43            1.332620e-01        -0.466037\n",
       "41            1.332293e-01        -0.504743\n",
       "42            1.332289e-01        -0.528895\n",
       "45            1.330887e-01        -0.513007\n",
       "...                    ...              ...\n",
       "67           -2.802553e+12        -0.632483\n",
       "69           -3.560552e+15        -0.650011\n",
       "71           -3.563011e+15        -0.568372\n",
       "70           -3.563015e+15        -0.631963\n",
       "68           -3.574749e+15        -0.666625\n",
       "\n",
       "[71 rows x 2 columns]"
      ]
     },
     "execution_count": 37,
     "metadata": {},
     "output_type": "execute_result"
    }
   ],
   "source": [
    "ml_df.sort_values(['r2_Linear', 'r2_DecisionTree'], ascending = False)"
   ]
  },
  {
   "cell_type": "markdown",
   "id": "303b923c",
   "metadata": {},
   "source": [
    "#### verifica-se que o melhor modelo é o r2_Linear, quando plottado com as 40 features que melhor explicam y"
   ]
  },
  {
   "cell_type": "code",
   "execution_count": 40,
   "id": "dc6223d2",
   "metadata": {},
   "outputs": [
    {
     "name": "stdout",
     "output_type": "stream",
     "text": [
      "score: 0.13327893392463053\n"
     ]
    }
   ],
   "source": [
    "lr.fit(x_z[lst_col_importance[0:40]], y)\n",
    "y_pred_lr = lr.predict(x_t_z[lst_col_importance[0:40]])\n",
    "print('score:',r2_score(y_t, y_pred_lr))\n"
   ]
  },
  {
   "cell_type": "markdown",
   "id": "e12bc41e",
   "metadata": {},
   "source": [
    "#### O score obtido é baixo, o que denota que o modelo não tem boa capacidade de prever a variável dependente. É possível que isso ocorra pelo fato do dataset original ser aleatório."
   ]
  },
  {
   "cell_type": "markdown",
   "id": "199d4c4a",
   "metadata": {},
   "source": [
    "### 6. escrevendo arquivo final\n"
   ]
  },
  {
   "cell_type": "code",
   "execution_count": 44,
   "id": "b0cd5b2b",
   "metadata": {},
   "outputs": [],
   "source": [
    "#importando teste final\n",
    "base_teste = 'test.csv'\n",
    "df_test = pd.read_csv(base_teste)\n",
    "df_test.set_index('id', inplace=True)"
   ]
  },
  {
   "cell_type": "code",
   "execution_count": 45,
   "id": "31a90b32",
   "metadata": {},
   "outputs": [
    {
     "data": {
      "text/plain": [
       "(24976, 71)"
      ]
     },
     "execution_count": 45,
     "metadata": {},
     "output_type": "execute_result"
    }
   ],
   "source": [
    "#adaptando dataframe final\n",
    "x_t_f = df_test.drop(cols_alta_correlacao, axis=1) #alta correlação\n",
    "x_t_f = x_t_f.drop(col_types['object'], axis=1) #tipo object\n",
    "x_t_f_z = pd.DataFrame(sc.fit_transform(X=x_t_f)) #normalizando em z\n",
    "x_t_f_z.columns = x_t_f.columns #apropriando nomes de colunas\n",
    "x_t_f_z.shape"
   ]
  },
  {
   "cell_type": "code",
   "execution_count": 47,
   "id": "86b5074b",
   "metadata": {},
   "outputs": [
    {
     "data": {
      "text/plain": [
       "array([1.78999204, 1.45403296, 1.40502057, ..., 2.31903052, 2.00139264,\n",
       "       1.49343677])"
      ]
     },
     "execution_count": 47,
     "metadata": {},
     "output_type": "execute_result"
    }
   ],
   "source": [
    "y_pred_teste_final = lr.predict(x_t_f_z[lst_col_importance[0:40]])\n",
    "y_pred_teste_final"
   ]
  },
  {
   "cell_type": "code",
   "execution_count": 48,
   "id": "e6c718e9",
   "metadata": {},
   "outputs": [],
   "source": [
    "df_entrega = df_test\n",
    "df_entrega['target']=y_pred_teste_final"
   ]
  },
  {
   "cell_type": "code",
   "execution_count": 50,
   "id": "bb0f5515",
   "metadata": {},
   "outputs": [],
   "source": [
    "df_entrega.to_csv('entrega.csv')"
   ]
  },
  {
   "cell_type": "markdown",
   "id": "c3e5064d",
   "metadata": {},
   "source": [
    "### Alunos\n",
    "- Andrey Ferreira de Almeida - RM: 344545\n",
    "- Diego Cohen - RM 344154\n",
    "- Vitor Silva - RM 344669"
   ]
  }
 ],
 "metadata": {
  "kernelspec": {
   "display_name": "Python 3 (ipykernel)",
   "language": "python",
   "name": "python3"
  },
  "language_info": {
   "codemirror_mode": {
    "name": "ipython",
    "version": 3
   },
   "file_extension": ".py",
   "mimetype": "text/x-python",
   "name": "python",
   "nbconvert_exporter": "python",
   "pygments_lexer": "ipython3",
   "version": "3.9.12"
  }
 },
 "nbformat": 4,
 "nbformat_minor": 5
}
